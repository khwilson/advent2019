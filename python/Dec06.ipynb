{
 "cells": [
  {
   "cell_type": "code",
   "execution_count": 1,
   "metadata": {},
   "outputs": [],
   "source": [
    "import copy\n",
    "import itertools as its\n",
    "import os\n",
    "import pathlib\n",
    "from typing import Dict, List\n",
    "from collections import defaultdict\n",
    "\n",
    "import networkx as nx\n",
    "import numpy as np\n",
    "import pandas as pd\n",
    "from matplotlib import pyplot as plt\n",
    "\n",
    "from aoc import sim, testing\n",
    "\n",
    "%matplotlib inline\n",
    "\n",
    "INPUT_PATH = pathlib.Path('..') / 'input' / 'dec06.txt'"
   ]
  },
  {
   "cell_type": "code",
   "execution_count": 2,
   "metadata": {},
   "outputs": [],
   "source": [
    "actual_input = INPUT_PATH.read_text().strip()\n",
    "\n",
    "test_input = \"\"\"\\\n",
    "COM)B\n",
    "B)C\n",
    "C)D\n",
    "D)E\n",
    "E)F\n",
    "B)G\n",
    "G)H\n",
    "D)I\n",
    "E)J\n",
    "J)K\n",
    "K)L\"\"\"\n",
    "\n",
    "test_input2 = \"\"\"\\\n",
    "COM)B\n",
    "B)C\n",
    "C)D\n",
    "D)E\n",
    "E)F\n",
    "B)G\n",
    "G)H\n",
    "D)I\n",
    "E)J\n",
    "J)K\n",
    "K)L\n",
    "K)YOU\n",
    "I)SAN\"\"\""
   ]
  },
  {
   "cell_type": "code",
   "execution_count": 3,
   "metadata": {},
   "outputs": [],
   "source": [
    "def parse_orbits(text: str) -> nx.DiGraph:\n",
    "    orbits = [line.strip().split(')') for line in text.strip().split('\\n')]\n",
    "    g = nx.DiGraph()\n",
    "    g.add_nodes_from({node for orbit in orbits for node in orbit})\n",
    "    g.add_edges_from(orbits)\n",
    "    return g"
   ]
  },
  {
   "cell_type": "code",
   "execution_count": 4,
   "metadata": {},
   "outputs": [],
   "source": [
    "def get_depths(g: nx.DiGraph, source: str = 'COM') -> Dict[str, int]:\n",
    "    depths = defaultdict(int)\n",
    "    for left, right in nx.dfs_edges(g, 'COM'):\n",
    "        depths[right] = depths[left] + 1\n",
    "    return depths"
   ]
  },
  {
   "cell_type": "code",
   "execution_count": 5,
   "metadata": {},
   "outputs": [],
   "source": [
    "# A test value\n",
    "assert sum(get_depths(parse_orbits(test_input)).values()) == 42"
   ]
  },
  {
   "cell_type": "code",
   "execution_count": 6,
   "metadata": {},
   "outputs": [
    {
     "name": "stdout",
     "output_type": "stream",
     "text": [
      "The answer to part 1 is 261306\n"
     ]
    }
   ],
   "source": [
    "g = parse_orbits(actual_input)\n",
    "\n",
    "print(f'The answer to part 1 is {sum(get_depths(g).values())}')"
   ]
  },
  {
   "cell_type": "code",
   "execution_count": 7,
   "metadata": {},
   "outputs": [],
   "source": [
    "# A test value for part 2\n",
    "assert nx.shortest_path_length(parse_orbits(test_input2).to_undirected(), source='YOU', target='SAN') - 2 == 4"
   ]
  },
  {
   "cell_type": "code",
   "execution_count": 9,
   "metadata": {},
   "outputs": [
    {
     "name": "stdout",
     "output_type": "stream",
     "text": [
      "The answer to part 2 is 382\n"
     ]
    }
   ],
   "source": [
    "print(f\"The answer to part 2 is {nx.shortest_path_length(g.to_undirected(), source='YOU', target='SAN') - 2}\")"
   ]
  },
  {
   "cell_type": "code",
   "execution_count": null,
   "metadata": {},
   "outputs": [],
   "source": []
  }
 ],
 "metadata": {
  "kernelspec": {
   "display_name": "Python 3",
   "language": "python",
   "name": "python3"
  },
  "language_info": {
   "codemirror_mode": {
    "name": "ipython",
    "version": 3
   },
   "file_extension": ".py",
   "mimetype": "text/x-python",
   "name": "python",
   "nbconvert_exporter": "python",
   "pygments_lexer": "ipython3",
   "version": "3.7.4"
  }
 },
 "nbformat": 4,
 "nbformat_minor": 2
}
