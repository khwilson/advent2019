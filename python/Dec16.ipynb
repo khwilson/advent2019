{
 "cells": [
  {
   "cell_type": "code",
   "execution_count": 1,
   "metadata": {},
   "outputs": [],
   "source": [
    "import copy\n",
    "import itertools as its\n",
    "import math\n",
    "import os\n",
    "import pathlib\n",
    "import re\n",
    "import sys\n",
    "import time\n",
    "from typing import Dict, List, Optional, Tuple, Union\n",
    "from collections import Counter, defaultdict, deque\n",
    "\n",
    "import networkx as nx\n",
    "import numpy as np\n",
    "import pandas as pd\n",
    "from IPython.display import clear_output\n",
    "from matplotlib import pyplot as plt\n",
    "\n",
    "from aoc import sim_new as sim, testing, util\n",
    "\n",
    "twopi = 2 * math.pi\n",
    "\n",
    "%matplotlib inline\n",
    "\n",
    "INPUT_PATH = pathlib.Path('..') / 'input' / 'dec16.txt'"
   ]
  },
  {
   "cell_type": "code",
   "execution_count": 2,
   "metadata": {},
   "outputs": [],
   "source": [
    "def read_data(x: str) -> List[int]:\n",
    "    return [int(y) for y in x.strip()]"
   ]
  },
  {
   "cell_type": "code",
   "execution_count": 3,
   "metadata": {},
   "outputs": [],
   "source": [
    "data = read_data(INPUT_PATH.read_text().strip())"
   ]
  },
  {
   "cell_type": "markdown",
   "metadata": {},
   "source": [
    "Let's start with the $n^2$ slow algorithm so that we can make sure everything is correct"
   ]
  },
  {
   "cell_type": "code",
   "execution_count": 4,
   "metadata": {},
   "outputs": [],
   "source": [
    "def fft_round(the_input: List[int], pattern: List[int]) -> List[int]:\n",
    "    output = []\n",
    "    for i in range(len(the_input)):\n",
    "        is_first = True\n",
    "        total = 0\n",
    "        pattern_idx = 0\n",
    "        input_idx = 0\n",
    "        while input_idx < len(the_input):\n",
    "            num_times = i if is_first else i + 1\n",
    "            is_first = False\n",
    "            for _ in range(num_times):\n",
    "                total += the_input[input_idx] * pattern[pattern_idx]\n",
    "                input_idx += 1\n",
    "                if input_idx >= len(the_input):\n",
    "                    break\n",
    "            pattern_idx = (pattern_idx + 1) % len(pattern)\n",
    "        output.append(abs(total) % 10)\n",
    "    return output"
   ]
  },
  {
   "cell_type": "markdown",
   "metadata": {},
   "source": [
    "The following algorithm works as well, but it's also $n^2$"
   ]
  },
  {
   "cell_type": "code",
   "execution_count": 5,
   "metadata": {},
   "outputs": [],
   "source": [
    "def fft_round_fast(the_input: List[int]):\n",
    "    return [\n",
    "        abs(sum(inp * (-((i // idx) % 4) + 2) * ((i // idx) % 2) for i, inp in enumerate(the_input, 1))) % 10\n",
    "        for idx in range(1, len(the_input) + 1)\n",
    "    ]\n"
   ]
  },
  {
   "cell_type": "markdown",
   "metadata": {},
   "source": [
    "On the other hand, if you stare hard enough from the right, you see that each round you're shifting a bunch of masks to the left and shortening them. The number of masks at round $i$ (counting down from the right) is proportional $N / i$, and so while in total this is an $n^2$ algorithm, the bulk of the pain is on the left.\n",
    "\n",
    "This algorithm is implemented in the following functions. The first sets up the masks we'll need to keep track of. The second, `dec_round` performs one round of summing. However, this is *still* $n^2$ because it sums across all the runs. Finally, we implement and actual $N \\log(N)$ algorithm in `dec_round_fast`.\n",
    "\n",
    "Note that in practice, the hard part is memory management and Python's weird looping/access behavior. This problem is perfectly suited to make Python sad. :-/ It turns out that in this case, to report the answer to part 2, the answer wants us to report at an offset extremely far to the right (nearly 90% of the way toward the end). Since everything before the offset doesn't affect the value to the right of the offset, we add a parameter to just stop computing to the left."
   ]
  },
  {
   "cell_type": "code",
   "execution_count": 6,
   "metadata": {},
   "outputs": [],
   "source": [
    "def decrement(runs, N):\n",
    "    new_runs = []\n",
    "    for i, (start, end, mask) in enumerate(runs):\n",
    "        new_runs.append((start - 1 - i - i, end - 2 - i - i, mask))\n",
    "    \n",
    "    start, end, mask = new_runs[-1]\n",
    "    while end < N:\n",
    "        #from IPython.core.debugger import Tracer; Tracer()()\n",
    "        length = end - start\n",
    "        start = end + length\n",
    "        end = start + length\n",
    "        mask = -mask\n",
    "        if start < N:\n",
    "            new_runs.append((start, end, mask))\n",
    "        else:\n",
    "            break\n",
    "    return new_runs"
   ]
  },
  {
   "cell_type": "code",
   "execution_count": 7,
   "metadata": {},
   "outputs": [],
   "source": [
    "def dec_round(the_input: List[int]) -> List[int]:\n",
    "    N = len(the_input)\n",
    "    runs = [(N - 1, N + N - 1, 1)]\n",
    "    output = [the_input[-1]]\n",
    "    while runs[0][0] > 0:\n",
    "        runs = decrement(runs, N)\n",
    "        output.append(sum(mask * sum(the_input[start:end]) for start, end, mask in runs))\n",
    "    return [abs(x) % 10 for x in reversed(output)]"
   ]
  },
  {
   "cell_type": "code",
   "execution_count": 8,
   "metadata": {},
   "outputs": [],
   "source": [
    "def dec_round_fast(the_input: List[int], offset: int = 0) -> List[int]:\n",
    "    N = len(the_input)\n",
    "    runs = [(N - 1, N + N - 1, 1)]\n",
    "    output = [the_input[-1]]\n",
    "    while runs[0][0] > offset:\n",
    "        new_runs = decrement(runs, N)\n",
    "        total = output[-1]\n",
    "        for (old_start, old_end, mask), (new_start, new_end, _) in zip(runs, new_runs):\n",
    "            total += mask * (sum(the_input[new_start: old_start]) - sum(the_input[new_end:old_end]))\n",
    "        for new_start, new_end, mask in new_runs[len(runs):]:\n",
    "            total += mask * sum(the_input[new_start:new_end])\n",
    "        output.append(total)\n",
    "        runs = new_runs\n",
    "    output = [abs(x) % 10 for x in reversed(output)]\n",
    "    if len(output) < len(the_input):\n",
    "        output = ([0] * (len(the_input) - len(output))) + output\n",
    "    return output"
   ]
  },
  {
   "cell_type": "code",
   "execution_count": 9,
   "metadata": {},
   "outputs": [],
   "source": [
    "def fft_rounds(the_input: List[int], pattern: List[int], num_rounds: int) -> List[int]:\n",
    "    output = copy.copy(the_input)\n",
    "    for num_round in range(num_rounds):\n",
    "        output = fft_round(output, pattern)\n",
    "    return output"
   ]
  },
  {
   "cell_type": "code",
   "execution_count": 10,
   "metadata": {},
   "outputs": [],
   "source": [
    "def fft_rounds_fast(the_input: List[int], num_rounds: int) -> List[int]:\n",
    "    output = copy.copy(the_input)\n",
    "    for num_round in range(num_rounds):\n",
    "        output = fft_round_fast(output)\n",
    "    return output"
   ]
  },
  {
   "cell_type": "code",
   "execution_count": 11,
   "metadata": {},
   "outputs": [],
   "source": [
    "def dec_rounds(the_input: List[int], num_rounds: int) -> List[int]:\n",
    "    output = copy.copy(the_input)\n",
    "    for num_round in range(num_rounds):\n",
    "        output = dec_round(output)\n",
    "    return output"
   ]
  },
  {
   "cell_type": "code",
   "execution_count": 12,
   "metadata": {},
   "outputs": [],
   "source": [
    "def dec_rounds_fast(the_input: List[int], num_rounds: int, offset: int = 0) -> List[int]:\n",
    "    output = copy.copy(the_input)\n",
    "    for num_round in range(num_rounds):\n",
    "        output = dec_round_fast(output, offset=offset)\n",
    "    return output"
   ]
  },
  {
   "cell_type": "code",
   "execution_count": null,
   "metadata": {},
   "outputs": [],
   "source": []
  },
  {
   "cell_type": "code",
   "execution_count": 13,
   "metadata": {},
   "outputs": [],
   "source": [
    "# Some simple tests\n",
    "\n",
    "testing.assert_all_equal(fft_round(read_data('12345678'), [0, 1, 0, -1]), [4,8,2,2,6,1,5,8])\n",
    "testing.assert_all_equal(fft_rounds(read_data('12345678'), [0, 1, 0, -1], 2), [3,4,0,4,0,4,3,8])\n",
    "\n",
    "testing.assert_all_equal(fft_round_fast(read_data('12345678')), [4,8,2,2,6,1,5,8])\n",
    "testing.assert_all_equal(fft_rounds_fast(read_data('12345678'), 2), [3,4,0,4,0,4,3,8])\n",
    "\n",
    "testing.assert_all_equal(dec_round(read_data('12345678')), [4,8,2,2,6,1,5,8])\n",
    "testing.assert_all_equal(dec_rounds(read_data('12345678'), 2), [3,4,0,4,0,4,3,8])\n",
    "\n",
    "testing.assert_all_equal(dec_round_fast(read_data('12345678')), [4,8,2,2,6,1,5,8])\n",
    "testing.assert_all_equal(dec_rounds_fast(read_data('12345678'), 2), [3,4,0,4,0,4,3,8])\n",
    "\n",
    "\n",
    "testing.assert_all_equal(fft_round(read_data('80871224585914546619083218645595'), [0, 1, 0, -1]), dec_round(read_data('80871224585914546619083218645595')))"
   ]
  },
  {
   "cell_type": "code",
   "execution_count": 14,
   "metadata": {},
   "outputs": [
    {
     "name": "stdout",
     "output_type": "stream",
     "text": [
      "The answer to part 1 is 23135243\n"
     ]
    }
   ],
   "source": [
    "print(f'The answer to part 1 is {\"\".join(map(str, dec_rounds_fast(data, 100)[:8]))}')"
   ]
  },
  {
   "cell_type": "code",
   "execution_count": 15,
   "metadata": {},
   "outputs": [
    {
     "name": "stdout",
     "output_type": "stream",
     "text": [
      "On round 0\n",
      "On round 1\n",
      "On round 2\n",
      "On round 3\n",
      "On round 4\n",
      "On round 5\n",
      "On round 6\n",
      "On round 7\n",
      "On round 8\n",
      "On round 9\n",
      "On round 10\n",
      "On round 11\n",
      "On round 12\n",
      "On round 13\n",
      "On round 14\n",
      "On round 15\n",
      "On round 16\n",
      "On round 17\n",
      "On round 18\n",
      "On round 19\n",
      "On round 20\n",
      "On round 21\n",
      "On round 22\n",
      "On round 23\n",
      "On round 24\n",
      "On round 25\n",
      "On round 26\n",
      "On round 27\n",
      "On round 28\n",
      "On round 29\n",
      "On round 30\n",
      "On round 31\n",
      "On round 32\n",
      "On round 33\n",
      "On round 34\n",
      "On round 35\n",
      "On round 36\n",
      "On round 37\n",
      "On round 38\n",
      "On round 39\n",
      "On round 40\n",
      "On round 41\n",
      "On round 42\n",
      "On round 43\n",
      "On round 44\n",
      "On round 45\n",
      "On round 46\n",
      "On round 47\n",
      "On round 48\n",
      "On round 49\n",
      "On round 50\n",
      "On round 51\n",
      "On round 52\n",
      "On round 53\n",
      "On round 54\n",
      "On round 55\n",
      "On round 56\n",
      "On round 57\n",
      "On round 58\n",
      "On round 59\n",
      "On round 60\n",
      "On round 61\n",
      "On round 62\n",
      "On round 63\n",
      "On round 64\n",
      "On round 65\n",
      "On round 66\n",
      "On round 67\n",
      "On round 68\n",
      "On round 69\n",
      "On round 70\n",
      "On round 71\n",
      "On round 72\n",
      "On round 73\n",
      "On round 74\n",
      "On round 75\n",
      "On round 76\n",
      "On round 77\n",
      "On round 78\n",
      "On round 79\n",
      "On round 80\n",
      "On round 81\n",
      "On round 82\n",
      "On round 83\n",
      "On round 84\n",
      "On round 85\n",
      "On round 86\n",
      "On round 87\n",
      "On round 88\n",
      "On round 89\n",
      "On round 90\n",
      "On round 91\n",
      "On round 92\n",
      "On round 93\n",
      "On round 94\n",
      "On round 95\n",
      "On round 96\n",
      "On round 97\n",
      "On round 98\n",
      "On round 99\n"
     ]
    }
   ],
   "source": [
    "offset = int(''.join(str(x) for x in data[:7]))\n",
    "foo = data * 10000\n",
    "for num_round in range(100):\n",
    "    print(f'On round {num_round}')\n",
    "    foo = dec_round_fast(foo, offset=offset)"
   ]
  },
  {
   "cell_type": "code",
   "execution_count": 16,
   "metadata": {},
   "outputs": [
    {
     "name": "stdout",
     "output_type": "stream",
     "text": [
      "The answer to part 2 is 21130597\n"
     ]
    }
   ],
   "source": [
    "print(f'The answer to part 2 is {\"\".join(map(str, foo[offset:offset+8]))}')"
   ]
  },
  {
   "cell_type": "markdown",
   "metadata": {},
   "source": [
    "Addendum: Note that the offset is > 50% of the way through the vector, so the answer can actually be done thus:"
   ]
  },
  {
   "cell_type": "code",
   "execution_count": 27,
   "metadata": {},
   "outputs": [
    {
     "name": "stdout",
     "output_type": "stream",
     "text": [
      "The answer to part 2 is 21130597\n"
     ]
    }
   ],
   "source": [
    "foo = (data * 10000)[offset:]\n",
    "for num_round in range(100):\n",
    "    for i in range(len(foo) - 1, 0, -1):\n",
    "        foo[i - 1] = (foo[i - 1] + foo[i]) % 10\n",
    "print(f'The answer to part 2 is {\"\".join(map(str, foo[:8]))}')"
   ]
  }
 ],
 "metadata": {
  "kernelspec": {
   "display_name": "Python 3",
   "language": "python",
   "name": "python3"
  },
  "language_info": {
   "codemirror_mode": {
    "name": "ipython",
    "version": 3
   },
   "file_extension": ".py",
   "mimetype": "text/x-python",
   "name": "python",
   "nbconvert_exporter": "python",
   "pygments_lexer": "ipython3",
   "version": "3.7.4"
  }
 },
 "nbformat": 4,
 "nbformat_minor": 2
}
