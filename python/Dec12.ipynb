{
 "cells": [
  {
   "cell_type": "code",
   "execution_count": 1,
   "metadata": {},
   "outputs": [],
   "source": [
    "import copy\n",
    "import itertools as its\n",
    "import math\n",
    "import os\n",
    "import pathlib\n",
    "import re\n",
    "from typing import Dict, List, Optional\n",
    "from collections import Counter, defaultdict\n",
    "\n",
    "import networkx as nx\n",
    "import numpy as np\n",
    "import pandas as pd\n",
    "from matplotlib import pyplot as plt\n",
    "\n",
    "from aoc import sim_new as sim, testing, util\n",
    "\n",
    "twopi = 2 * math.pi\n",
    "\n",
    "%matplotlib inline\n",
    "\n",
    "INPUT_PATH = pathlib.Path('..') / 'input' / 'dec12.txt'"
   ]
  },
  {
   "cell_type": "code",
   "execution_count": 2,
   "metadata": {},
   "outputs": [],
   "source": [
    "def read_pos(s: str) -> List[int]:\n",
    "    return [int(x) for x in re.findall(r'<x=(-?\\d+), y=(-?\\d+), z=(-?\\d+)', s)[0]]\n",
    "\n",
    "testing.assert_all_equal(read_pos('<x=1, y=-4, z=10>'), [1, -4, 10])"
   ]
  },
  {
   "cell_type": "code",
   "execution_count": null,
   "metadata": {},
   "outputs": [],
   "source": []
  },
  {
   "cell_type": "code",
   "execution_count": 3,
   "metadata": {},
   "outputs": [],
   "source": [
    "def simulate(moons, steps, verbose: bool = False):\n",
    "    moons = copy.copy(moons)\n",
    "    moon_vs = [[0] * len(moon) for moon in moons]\n",
    "    seen = set([str(moons) + str(moon_vs)])  # Start with initial position in seen\n",
    "    step = 0\n",
    "    while True:\n",
    "        step += 1\n",
    "        for i in range(len(moons)):\n",
    "            left_moon = moons[i]\n",
    "            left_moon_v = moon_vs[i]\n",
    "            for j in range(i + 1, len(moons)):\n",
    "                right_moon = moons[j]\n",
    "                right_moon_v = moon_vs[j]\n",
    "                for k in range(len(left_moon)):\n",
    "                    if left_moon[k] < right_moon[k]:\n",
    "                        left_moon_v[k] += 1\n",
    "                        right_moon_v[k] -= 1\n",
    "                    elif left_moon[k] > right_moon[k]:\n",
    "                        left_moon_v[k] -= 1\n",
    "                        right_moon_v[k] += 1\n",
    "                    # Nothing if same\n",
    "        for moon, moon_v in zip(moons, moon_vs):\n",
    "            for i in range(len(moon)):\n",
    "                moon[i] += moon_v[i]\n",
    "        if step == steps:\n",
    "            break\n",
    "        if steps > 0:\n",
    "            continue\n",
    "        h = str(moons) + str(moon_vs)\n",
    "        if verbose:\n",
    "            print(step, h)\n",
    "        if h in seen:\n",
    "            return step\n",
    "        seen.add(h)\n",
    "        \n",
    "    return sum(sum(abs(x) for x in moon) * sum(abs(x) for x in moon_v) for moon, moon_v in zip(moons, moon_vs))"
   ]
  },
  {
   "cell_type": "code",
   "execution_count": 4,
   "metadata": {},
   "outputs": [
    {
     "data": {
      "text/plain": [
       "10635"
      ]
     },
     "execution_count": 4,
     "metadata": {},
     "output_type": "execute_result"
    }
   ],
   "source": [
    "moons = [read_pos(line) for line in INPUT_PATH.read_text().strip().split('\\n')]\n",
    "simulate(moons, 1000)"
   ]
  },
  {
   "cell_type": "code",
   "execution_count": 5,
   "metadata": {},
   "outputs": [],
   "source": [
    "moons = [read_pos(line) for line in INPUT_PATH.read_text().strip().split('\\n')]\n",
    "# This takes too long. So simulate each coordinate separately and find the LCM\n",
    "# simulate(moons, -1)"
   ]
  },
  {
   "cell_type": "code",
   "execution_count": 6,
   "metadata": {},
   "outputs": [
    {
     "data": {
      "text/plain": [
       "583523031727256"
      ]
     },
     "execution_count": 6,
     "metadata": {},
     "output_type": "execute_result"
    }
   ],
   "source": [
    "util.lcm(\n",
    "    simulate([[moon[0]] for moon in moons], -1),  # x axis\n",
    "    util.lcm(\n",
    "        simulate([[moon[1]] for moon in moons], -1),  # y axis\n",
    "        simulate([[moon[2]] for moon in moons], -1)   # z axis\n",
    "    )\n",
    ")"
   ]
  },
  {
   "cell_type": "code",
   "execution_count": null,
   "metadata": {},
   "outputs": [],
   "source": []
  }
 ],
 "metadata": {
  "kernelspec": {
   "display_name": "Python 3",
   "language": "python",
   "name": "python3"
  },
  "language_info": {
   "codemirror_mode": {
    "name": "ipython",
    "version": 3
   },
   "file_extension": ".py",
   "mimetype": "text/x-python",
   "name": "python",
   "nbconvert_exporter": "python",
   "pygments_lexer": "ipython3",
   "version": "3.7.4"
  }
 },
 "nbformat": 4,
 "nbformat_minor": 2
}
