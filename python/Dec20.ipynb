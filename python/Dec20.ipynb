{
 "cells": [
  {
   "cell_type": "code",
   "execution_count": 1,
   "metadata": {},
   "outputs": [],
   "source": [
    "import copy\n",
    "import itertools as its\n",
    "import math\n",
    "import os\n",
    "import pathlib\n",
    "import re\n",
    "import sys\n",
    "from typing import Dict, List, Optional, Tuple, Union\n",
    "from collections import Counter, defaultdict, deque\n",
    "\n",
    "import networkx as nx\n",
    "import numpy as np\n",
    "import pandas as pd\n",
    "from IPython.display import clear_output\n",
    "from matplotlib import pyplot as plt\n",
    "\n",
    "from aoc import sim_new as sim, testing, util\n",
    "\n",
    "twopi = 2 * math.pi\n",
    "\n",
    "%matplotlib inline\n",
    "\n",
    "INPUT_PATH = pathlib.Path('..') / 'input' / 'dec20.txt'"
   ]
  },
  {
   "cell_type": "code",
   "execution_count": 2,
   "metadata": {},
   "outputs": [],
   "source": [
    "WALL = '#'\n",
    "EMPTY = '.'\n",
    "\n",
    "OUTER = 0\n",
    "INNER = 1\n",
    "\n",
    "START_NAME = 'AA'\n",
    "END_NAME = 'ZZ'\n",
    "\n",
    "def read_maze(text: str) -> Dict[Tuple[int, int], str]:\n",
    "    maze = {}\n",
    "    maze_as_list = [[c for c in line.rstrip()] for line in text.rstrip().split('\\n')]\n",
    "    for y, line in enumerate(maze_as_list):\n",
    "        for x, c in enumerate(line):\n",
    "            pos = (x, y)\n",
    "            if pos in maze:\n",
    "                continue\n",
    "            if c in [WALL, EMPTY]:\n",
    "                maze[pos] = c\n",
    "            elif c == ' ':\n",
    "                continue\n",
    "            else:\n",
    "                # We're some sort of label\n",
    "                up = (x, y - 1)\n",
    "                down = (x, y + 1)\n",
    "                left = (x - 1, y)\n",
    "                right = (x + 1, y)\n",
    "                if up in maze and maze[up] not in [WALL, EMPTY]:\n",
    "                    cup = maze[up]\n",
    "                    del maze[up]\n",
    "                    # If there's something present to the down, place at pos else at up\n",
    "                    place = (x, y - 2)\n",
    "                    try:\n",
    "                        if maze_as_list[down[1]][down[0]] == EMPTY:\n",
    "                            place = down\n",
    "                    except: pass\n",
    "                    maze[place] = cup + c\n",
    "                elif left in maze and maze[left] not in [WALL, EMPTY]:\n",
    "                    cup = maze[left]\n",
    "                    del maze[left]\n",
    "                    place = (x - 2, y)\n",
    "                    try:\n",
    "                        if maze_as_list[right[1]][right[0]] == EMPTY:\n",
    "                            place = (x + 1, y)\n",
    "                    except: pass\n",
    "                    maze[place] = cup + c\n",
    "                else:\n",
    "                    # Just leave here for future read\n",
    "                    maze[pos] = c\n",
    "    return maze"
   ]
  },
  {
   "cell_type": "code",
   "execution_count": 3,
   "metadata": {},
   "outputs": [],
   "source": [
    "def door_orientations(maze):\n",
    "    maze = {key: val for key, val in maze.items() if val != WALL}\n",
    "    door_coords = [key for key, val in maze.items() if val != EMPTY]\n",
    "    left_x = min(key[0] for key in door_coords)\n",
    "    right_x = max(key[0] for key in door_coords)\n",
    "    top_y = min(key[1] for key in door_coords)\n",
    "    bottom_y = max(key[1] for key in door_coords)\n",
    "\n",
    "    return {\n",
    "        key: OUTER if key[0] in [left_x, right_x] or key[1] in [top_y, bottom_y] else INNER\n",
    "        for key in door_coords\n",
    "    }"
   ]
  },
  {
   "cell_type": "code",
   "execution_count": 4,
   "metadata": {},
   "outputs": [],
   "source": [
    "def maze_to_graph(maze, depth: int = 0):\n",
    "    g = nx.Graph()\n",
    "    \n",
    "    maze = {key: val for key, val in maze.items() if val != WALL}\n",
    "    door_to_coords = defaultdict(list)\n",
    "    for key, val in maze.items():\n",
    "        if val != EMPTY:\n",
    "            door_to_coords[val].append(key)\n",
    "\n",
    "    start_pos = door_to_coords[START_NAME][0]\n",
    "    del door_to_coords[START_NAME]\n",
    "    end_pos = door_to_coords[END_NAME][0]\n",
    "    del door_to_coords[END_NAME]\n",
    "    \n",
    "    # Just test our orientation function\n",
    "    orientations = door_orientations(maze)\n",
    "    for door, keys in door_to_coords.items():\n",
    "        assert sum(orientations[key] for key in keys) == 1\n",
    "    \n",
    "    # Make sure we have two of each door\n",
    "    assert all(len(val) == 2 for val in door_to_coords.values())\n",
    "\n",
    "    # Add each level, the basic connections\n",
    "    for d in range(depth + 1):\n",
    "        for key, val in maze.items():\n",
    "            for to_pos in util.four_ways(*key):\n",
    "                if to_pos in maze:\n",
    "                    g.add_node((key[0], key[1], d))\n",
    "                    g.add_node((to_pos[0], to_pos[1], d))\n",
    "                    g.add_edge((key[0], key[1], d), (to_pos[0], to_pos[1], d))\n",
    "\n",
    "    # Add the doors.\n",
    "    \n",
    "    # If depth == 0, just connect up everything so everything always finishes\n",
    "    if not depth:\n",
    "        for door, coords in door_to_coords.items():\n",
    "            left, right = coords\n",
    "            g.add_edge((left[0], left[1], depth), (right[0], right[1], depth))\n",
    "\n",
    "    # For each other depth, connect inner doors to outer doors one level deeper\n",
    "    for d in range(depth):\n",
    "        for door, coords in door_to_coords.items():\n",
    "            left, right = coords\n",
    "            # Set orientation correctly; right = OUTER, left = INNER\n",
    "            if orientations[left] != INNER:\n",
    "                left, right = right, left\n",
    "            # The INNER door connects to the OUTER door one level down\n",
    "            g.add_edge((left[0], left[1], d), (right[0], right[1], d + 1))\n",
    "\n",
    "    return g, (start_pos[0], start_pos[1], 0), (end_pos[0], end_pos[1], 0)"
   ]
  },
  {
   "cell_type": "code",
   "execution_count": 5,
   "metadata": {},
   "outputs": [],
   "source": [
    "maze = read_maze(INPUT_PATH.read_text())\n",
    "graph, start_pos, end_pos = maze_to_graph(maze)"
   ]
  },
  {
   "cell_type": "code",
   "execution_count": 6,
   "metadata": {},
   "outputs": [
    {
     "name": "stdout",
     "output_type": "stream",
     "text": [
      "The answer to part 1 is 686\n"
     ]
    }
   ],
   "source": [
    "print(f'The answer to part 1 is {nx.shortest_path_length(graph, start_pos, end_pos)}')"
   ]
  },
  {
   "cell_type": "code",
   "execution_count": 7,
   "metadata": {},
   "outputs": [],
   "source": [
    "test_maze = \"\"\"\n",
    "             Z L X W       C                 \n",
    "             Z P Q B       K                 \n",
    "  ###########.#.#.#.#######.###############  \n",
    "  #...#.......#.#.......#.#.......#.#.#...#  \n",
    "  ###.#.#.#.#.#.#.#.###.#.#.#######.#.#.###  \n",
    "  #.#...#.#.#...#.#.#...#...#...#.#.......#  \n",
    "  #.###.#######.###.###.#.###.###.#.#######  \n",
    "  #...#.......#.#...#...#.............#...#  \n",
    "  #.#########.#######.#.#######.#######.###  \n",
    "  #...#.#    F       R I       Z    #.#.#.#  \n",
    "  #.###.#    D       E C       H    #.#.#.#  \n",
    "  #.#...#                           #...#.#  \n",
    "  #.###.#                           #.###.#  \n",
    "  #.#....OA                       WB..#.#..ZH\n",
    "  #.###.#                           #.#.#.#  \n",
    "CJ......#                           #.....#  \n",
    "  #######                           #######  \n",
    "  #.#....CK                         #......IC\n",
    "  #.###.#                           #.###.#  \n",
    "  #.....#                           #...#.#  \n",
    "  ###.###                           #.#.#.#  \n",
    "XF....#.#                         RF..#.#.#  \n",
    "  #####.#                           #######  \n",
    "  #......CJ                       NM..#...#  \n",
    "  ###.#.#                           #.###.#  \n",
    "RE....#.#                           #......RF\n",
    "  ###.###        X   X       L      #.#.#.#  \n",
    "  #.....#        F   Q       P      #.#.#.#  \n",
    "  ###.###########.###.#######.#########.###  \n",
    "  #.....#...#.....#.......#...#.....#.#...#  \n",
    "  #####.#.###.#######.#######.###.###.#.#.#  \n",
    "  #.......#.......#.#.#.#.#...#...#...#.#.#  \n",
    "  #####.###.#####.#.#.#.#.###.###.#.###.###  \n",
    "  #.......#.....#.#...#...............#...#  \n",
    "  #############.#.#.###.###################  \n",
    "               A O F   N                     \n",
    "               A A D   M                     \n",
    "\"\"\""
   ]
  },
  {
   "cell_type": "code",
   "execution_count": 8,
   "metadata": {},
   "outputs": [],
   "source": [
    "def recursive_find_path(maze):\n",
    "    depth = 1\n",
    "    while True:\n",
    "        graph, start_pos, end_pos = maze_to_graph(maze, depth=depth)\n",
    "        try:\n",
    "            path_length = nx.shortest_path_length(graph, start_pos, end_pos)\n",
    "            return path_length\n",
    "        except:\n",
    "            depth += 10\n"
   ]
  },
  {
   "cell_type": "code",
   "execution_count": 9,
   "metadata": {},
   "outputs": [],
   "source": [
    "maze = read_maze(test_maze)\n",
    "assert recursive_find_path(maze) == 396"
   ]
  },
  {
   "cell_type": "code",
   "execution_count": 10,
   "metadata": {},
   "outputs": [
    {
     "name": "stdout",
     "output_type": "stream",
     "text": [
      "The answer to part 2 is 8384\n"
     ]
    }
   ],
   "source": [
    "maze = read_maze(INPUT_PATH.read_text())\n",
    "print(f'The answer to part 2 is {recursive_find_path(maze)}')"
   ]
  },
  {
   "cell_type": "code",
   "execution_count": null,
   "metadata": {},
   "outputs": [],
   "source": []
  }
 ],
 "metadata": {
  "kernelspec": {
   "display_name": "Python 3",
   "language": "python",
   "name": "python3"
  },
  "language_info": {
   "codemirror_mode": {
    "name": "ipython",
    "version": 3
   },
   "file_extension": ".py",
   "mimetype": "text/x-python",
   "name": "python",
   "nbconvert_exporter": "python",
   "pygments_lexer": "ipython3",
   "version": "3.7.4"
  }
 },
 "nbformat": 4,
 "nbformat_minor": 2
}
