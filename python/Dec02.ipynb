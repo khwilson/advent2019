{
 "cells": [
  {
   "cell_type": "code",
   "execution_count": 1,
   "metadata": {},
   "outputs": [],
   "source": [
    "import sys\n",
    "sys.path.append('.')\n",
    "\n",
    "import copy\n",
    "import os\n",
    "import pathlib\n",
    "from typing import List\n",
    "\n",
    "import numpy as np\n",
    "import pandas as pd\n",
    "from matplotlib import pyplot as plt\n",
    "\n",
    "from aoc import sim_new as sim, testing\n",
    "\n",
    "%matplotlib inline\n",
    "\n",
    "INPUT_PATH = pathlib.Path('..') / 'input' / 'dec02.txt'"
   ]
  },
  {
   "cell_type": "code",
   "execution_count": 2,
   "metadata": {},
   "outputs": [],
   "source": [
    "test_ops1 = [1, 0, 0, 0, 99]\n",
    "sim.simulate(test_ops1, inplace=True)\n",
    "testing.assert_all_equal(test_ops1, [2, 0, 0, 0, 99])\n",
    "\n",
    "test_ops2 = [2, 3, 0, 3, 99]\n",
    "sim.simulate(test_ops2, inplace=True)\n",
    "testing.assert_all_equal(test_ops2, [2, 3, 0, 6, 99])\n",
    "\n",
    "test_ops3 = [1, 1, 1, 4, 99, 5, 6, 0, 99]\n",
    "sim.simulate(test_ops3, inplace=True)\n",
    "testing.assert_all_equal(test_ops3, [30, 1, 1, 4, 2, 5, 6, 0, 99])"
   ]
  },
  {
   "cell_type": "code",
   "execution_count": 3,
   "metadata": {},
   "outputs": [
    {
     "name": "stdout",
     "output_type": "stream",
     "text": [
      "The answer to part 1 is 3706713\n"
     ]
    }
   ],
   "source": [
    "raw_program = [int(x) for x in INPUT_PATH.read_text().split(',')]\n",
    "program = copy.copy(raw_program)\n",
    "\n",
    "program[1] = 12\n",
    "program[2] = 2\n",
    "sim.simulate(program, inplace=True)\n",
    "print(f'The answer to part 1 is {program[0]}')"
   ]
  },
  {
   "cell_type": "code",
   "execution_count": 4,
   "metadata": {},
   "outputs": [
    {
     "name": "stdout",
     "output_type": "stream",
     "text": [
      "The answer to part 2 is 8609\n"
     ]
    }
   ],
   "source": [
    "desired_answer = 19690720\n",
    "\n",
    "for x in range(len(raw_program)):\n",
    "    for y in range(len(program)):\n",
    "        program = copy.copy(raw_program)\n",
    "        program[1] = x\n",
    "        program[2] = y\n",
    "        try:\n",
    "            sim.simulate(program, inplace=True)\n",
    "        except ValueError:\n",
    "            print('Error')\n",
    "        if program[0] == desired_answer:\n",
    "            print(f'The answer to part 2 is {100 * x + y}')"
   ]
  },
  {
   "cell_type": "code",
   "execution_count": null,
   "metadata": {},
   "outputs": [],
   "source": []
  }
 ],
 "metadata": {
  "kernelspec": {
   "display_name": "Python 3",
   "language": "python",
   "name": "python3"
  },
  "language_info": {
   "codemirror_mode": {
    "name": "ipython",
    "version": 3
   },
   "file_extension": ".py",
   "mimetype": "text/x-python",
   "name": "python",
   "nbconvert_exporter": "python",
   "pygments_lexer": "ipython3",
   "version": "3.7.4"
  }
 },
 "nbformat": 4,
 "nbformat_minor": 2
}
