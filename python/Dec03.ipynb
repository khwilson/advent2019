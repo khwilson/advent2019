{
 "cells": [
  {
   "cell_type": "code",
   "execution_count": 1,
   "metadata": {},
   "outputs": [],
   "source": [
    "import copy\n",
    "import os\n",
    "import pathlib\n",
    "from typing import List\n",
    "\n",
    "import numpy as np\n",
    "import pandas as pd\n",
    "from matplotlib import pyplot as plt\n",
    "\n",
    "from aoc import sim, testing\n",
    "\n",
    "%matplotlib inline\n",
    "\n",
    "INPUT_PATH = pathlib.Path('..') / 'input' / 'dec03.txt'"
   ]
  },
  {
   "cell_type": "code",
   "execution_count": 2,
   "metadata": {},
   "outputs": [],
   "source": [
    "wire1_raw, wire2_raw = INPUT_PATH.read_text().strip().split('\\n')\n",
    "wire1_path = wire1_raw.split(',')\n",
    "wire2_path = wire2_raw.split(',')"
   ]
  },
  {
   "cell_type": "code",
   "execution_count": 3,
   "metadata": {},
   "outputs": [],
   "source": [
    "def path_to_coords(path):\n",
    "    cur = (0, 0, 0)\n",
    "    coords = {cur}\n",
    "    for direction in path:\n",
    "        d = direction[0]\n",
    "        amt = int(direction[1:])\n",
    "        while amt:\n",
    "            if d == 'U':\n",
    "                cur = (cur[0], cur[1] + 1, cur[2] + 1)\n",
    "            elif d == 'L':\n",
    "                cur = (cur[0] - 1, cur[1], cur[2] + 1)\n",
    "            elif d == 'D':\n",
    "                cur = (cur[0], cur[1] - 1, cur[2] + 1)\n",
    "            elif d == 'R':\n",
    "                cur = (cur[0] + 1, cur[1], cur[2] + 1)\n",
    "            else:\n",
    "                raise ValueError(f'Bad coordinate{direction}')\n",
    "            coords.add(cur)\n",
    "            amt -= 1\n",
    "    return coords"
   ]
  },
  {
   "cell_type": "code",
   "execution_count": 4,
   "metadata": {},
   "outputs": [],
   "source": [
    "wire1_coords = path_to_coords(wire1_path)\n",
    "wire2_coords = path_to_coords(wire2_path)\n",
    "\n",
    "wire1 = {(x, y): d for x, y, d in wire1_coords}\n",
    "wire2 = {(x, y): d for x, y, d in wire2_coords}\n",
    "wire1_just_coords = set(wire1.keys())\n",
    "wire2_just_coords = set(wire2.keys())\n",
    "intersections = wire1_just_coords & wire2_just_coords\n"
   ]
  },
  {
   "cell_type": "code",
   "execution_count": 5,
   "metadata": {},
   "outputs": [
    {
     "name": "stdout",
     "output_type": "stream",
     "text": [
      "The answer to part 1 is 5357\n"
     ]
    }
   ],
   "source": [
    "print(f'The answer to part 1 is {sorted(abs(x) + abs(y) for x, y in intersections)[1]}')"
   ]
  },
  {
   "cell_type": "code",
   "execution_count": 6,
   "metadata": {},
   "outputs": [
    {
     "name": "stdout",
     "output_type": "stream",
     "text": [
      "The answer to part 2 is 101956\n"
     ]
    }
   ],
   "source": [
    "print(f'The answer to part 2 is {sorted(wire1[intx] + wire2[intx] for intx in intersections)[1]}')"
   ]
  }
 ],
 "metadata": {
  "kernelspec": {
   "display_name": "Python 3",
   "language": "python",
   "name": "python3"
  },
  "language_info": {
   "codemirror_mode": {
    "name": "ipython",
    "version": 3
   },
   "file_extension": ".py",
   "mimetype": "text/x-python",
   "name": "python",
   "nbconvert_exporter": "python",
   "pygments_lexer": "ipython3",
   "version": "3.7.4"
  }
 },
 "nbformat": 4,
 "nbformat_minor": 2
}
