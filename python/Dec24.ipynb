{
 "cells": [
  {
   "cell_type": "code",
   "execution_count": 1,
   "metadata": {},
   "outputs": [],
   "source": [
    "import copy\n",
    "import itertools as its\n",
    "import math\n",
    "import os\n",
    "import pathlib\n",
    "import re\n",
    "import string\n",
    "import sys\n",
    "from typing import Dict, List, Optional, Tuple, Union\n",
    "from collections import Counter, defaultdict, deque\n",
    "\n",
    "import networkx as nx\n",
    "import numpy as np\n",
    "import pandas as pd\n",
    "from IPython.display import clear_output\n",
    "from matplotlib import pyplot as plt\n",
    "\n",
    "from aoc import sim_new as sim, testing, util\n",
    "\n",
    "twopi = 2 * math.pi\n",
    "\n",
    "%matplotlib inline\n",
    "\n",
    "INPUT_PATH = pathlib.Path('..') / 'input' / 'dec24.txt'"
   ]
  },
  {
   "cell_type": "code",
   "execution_count": 2,
   "metadata": {},
   "outputs": [],
   "source": [
    "EMPTY = 0\n",
    "FULL = 1\n",
    "\n",
    "def read_data(text: str) -> List[List[int]]:\n",
    "    data = []\n",
    "    for line in text.rstrip().split('\\n'):\n",
    "        aline = []\n",
    "        for c in line.rstrip():\n",
    "            aline.append(EMPTY if c == '.' else FULL)\n",
    "        data.append(aline)\n",
    "    return data\n",
    "\n",
    "def print_data(data: List[List[int]]):\n",
    "    for line in data:\n",
    "        for c in line:\n",
    "            print('.' if c == EMPTY else '#', end='')\n",
    "        print()\n"
   ]
  },
  {
   "cell_type": "code",
   "execution_count": 3,
   "metadata": {},
   "outputs": [
    {
     "name": "stdout",
     "output_type": "stream",
     "text": [
      ".###.\n",
      "##...\n",
      "...##\n",
      ".#.#.\n",
      "#.#.#\n"
     ]
    }
   ],
   "source": [
    "print_data(read_data(INPUT_PATH.read_text()))"
   ]
  },
  {
   "cell_type": "code",
   "execution_count": 4,
   "metadata": {},
   "outputs": [],
   "source": [
    "def step(inp: List[List[int]]) -> List[List[int]]:\n",
    "    out = [[EMPTY for _ in range(len(inp[0]))] for _ in range(len(inp))]\n",
    "    for yy, line in enumerate(inp):\n",
    "        for xx, c in enumerate(line):\n",
    "            total_bugs_adjacent = 0\n",
    "            for x, y in util.four_ways(xx, yy):\n",
    "                if x < 0 or y < 0 or y >= len(inp) or x >= len(inp[y]):\n",
    "                    continue\n",
    "                if inp[y][x] == FULL:\n",
    "                    total_bugs_adjacent += 1\n",
    "            if c == EMPTY:\n",
    "                if total_bugs_adjacent in (1, 2):\n",
    "                    out[yy][xx] = FULL\n",
    "            else:\n",
    "                if total_bugs_adjacent == 1:\n",
    "                    out[yy][xx] = FULL\n",
    "    return out"
   ]
  },
  {
   "cell_type": "code",
   "execution_count": 5,
   "metadata": {},
   "outputs": [],
   "source": [
    "test_input = \"\"\"\\\n",
    "....#\n",
    "#..#.\n",
    "#..##\n",
    "..#..\n",
    "#....\"\"\"\n",
    "\n",
    "test_output = \"\"\"\\\n",
    "#..#.\n",
    "####.\n",
    "###.#\n",
    "##.##\n",
    ".##..\"\"\""
   ]
  },
  {
   "cell_type": "code",
   "execution_count": 6,
   "metadata": {},
   "outputs": [],
   "source": [
    "test_data = read_data(test_input)"
   ]
  },
  {
   "cell_type": "code",
   "execution_count": 7,
   "metadata": {},
   "outputs": [
    {
     "name": "stdout",
     "output_type": "stream",
     "text": [
      "#..#.\n",
      "####.\n",
      "###.#\n",
      "##.##\n",
      ".##..\n"
     ]
    }
   ],
   "source": [
    "print_data(step(test_data))"
   ]
  },
  {
   "cell_type": "code",
   "execution_count": 8,
   "metadata": {},
   "outputs": [],
   "source": [
    "def hash_layout(data: List[List[int]]) -> int:\n",
    "    output = 0\n",
    "    # The reversed are to match the \"biodiversity rating\" of part 1\n",
    "    for line in reversed(data):\n",
    "        for c in reversed(line):\n",
    "            output <<= 1\n",
    "            output += 1 if c == FULL else 0\n",
    "    return output"
   ]
  },
  {
   "cell_type": "code",
   "execution_count": 9,
   "metadata": {},
   "outputs": [],
   "source": [
    "def step_until_dup(data: List[List[int]]):\n",
    "    seen = set()\n",
    "\n",
    "    while True:\n",
    "        h = hash_layout(data)\n",
    "        if h in seen:\n",
    "            return data\n",
    "        seen.add(h)\n",
    "        data = step(data)"
   ]
  },
  {
   "cell_type": "code",
   "execution_count": 10,
   "metadata": {},
   "outputs": [
    {
     "name": "stdout",
     "output_type": "stream",
     "text": [
      "The answer to part 1 is 28717468\n"
     ]
    }
   ],
   "source": [
    "print(f'The answer to part 1 is {hash_layout(step_until_dup(read_data(INPUT_PATH.read_text())))}')"
   ]
  },
  {
   "cell_type": "code",
   "execution_count": 11,
   "metadata": {},
   "outputs": [],
   "source": [
    "UP, DOWN, LEFT, RIGHT = 0, 1, 2, 3\n",
    "\n",
    "def propose_down(inp, out):\n",
    "    new_level = np.zeros_like(inp[0, :, :])\n",
    "    last_level = inp[-1, :, :]\n",
    "    new_level[:, 0] += last_level[2, 1]\n",
    "    new_level[:, -1] += last_level[2, -2]\n",
    "    new_level[0, :] += last_level[1, 2]\n",
    "    new_level[-1, :] += last_level[-2, 2]\n",
    "    new_level = (new_level > 0).astype(int)\n",
    "    \n",
    "    if (new_level == 1).any():\n",
    "        return np.vstack([out, [new_level]])\n",
    "    return out\n",
    "\n",
    "\n",
    "def propose_up(inp, out):\n",
    "    new_level = np.zeros_like(inp[0, :, :])\n",
    "    last_level = inp[0, :, :]\n",
    "    new_level[2, 1] = last_level[:, 0].sum()\n",
    "    new_level[2, -2] = last_level[:, -1].sum()\n",
    "    new_level[1, 2] = last_level[0, :].sum()\n",
    "    new_level[-2, 2] = last_level[-1, :].sum()\n",
    "    new_level = ((new_level == 1) | (new_level == 2)).astype(int)\n",
    "    \n",
    "    if (new_level == 1).any():\n",
    "        return np.vstack([[new_level], out])\n",
    "    return out\n",
    "\n",
    "\n",
    "def sum_side(inp, side):\n",
    "    if side == DOWN:\n",
    "        return inp[:, 0].sum()\n",
    "    if side == UP:\n",
    "        return inp[:, -1].sum()\n",
    "    if side == RIGHT:\n",
    "        return inp[0, :].sum()\n",
    "    if side == LEFT:\n",
    "        return inp[-1, :].sum()\n",
    "    raise ValueError('Bad side')\n",
    "\n",
    "\n",
    "def recursive_step(inp):\n",
    "    out = np.zeros_like(inp)\n",
    "    size = inp.shape[1]\n",
    "    for zz, face in enumerate(inp):\n",
    "        for yy, line in enumerate(face):\n",
    "            for xx, c in enumerate(line):\n",
    "                if (xx, yy) == (2, 2):\n",
    "                    # We just skip the recursive square\n",
    "                    continue\n",
    "                total_bugs_adjacent = 0\n",
    "                for i, (x, y) in enumerate(util.four_ways(xx, yy)):\n",
    "                    if x < 0 or y < 0 or y >= size or x >= size:\n",
    "                        # Note only one of these conditions can be true at a time\n",
    "                        # Try to recurse up\n",
    "                        z = zz - 1\n",
    "                        if z < 0:\n",
    "                            # There's no space to recurse\n",
    "                            continue\n",
    "                        if x < 0:\n",
    "                            x, y = 1, 2\n",
    "                        elif y < 0:\n",
    "                            x, y = 2, 1\n",
    "                        elif x >= size:\n",
    "                            x, y = -2, 2\n",
    "                        else:\n",
    "                            x, y = 2, -2\n",
    "                        total_bugs_adjacent += inp[z][y][x]\n",
    "                        \n",
    "                    elif (x, y) == (2, 2):\n",
    "                        # Try to recurse down\n",
    "                        if zz == inp.shape[0] - 1:\n",
    "                            # There are no bugs down below yet.\n",
    "                            pass\n",
    "                        else:\n",
    "                            total_bugs_adjacent += sum_side(inp[zz + 1, :, :], i)\n",
    "                    elif face[y][x] == FULL:\n",
    "                        # We're just on the same level\n",
    "                        total_bugs_adjacent += 1\n",
    "                if c == EMPTY:\n",
    "                    if total_bugs_adjacent in (1, 2):\n",
    "                        out[zz][yy][xx] = FULL\n",
    "                else:\n",
    "                    if total_bugs_adjacent == 1:\n",
    "                        out[zz][yy][xx] = FULL\n",
    "    out = propose_down(inp, out)\n",
    "    out = propose_up(inp, out)\n",
    "    return out"
   ]
  },
  {
   "cell_type": "code",
   "execution_count": 12,
   "metadata": {},
   "outputs": [
    {
     "name": "stdout",
     "output_type": "stream",
     "text": [
      "The answer to part 2 is 2014\n"
     ]
    }
   ],
   "source": [
    "data = np.array([read_data(INPUT_PATH.read_text())])\n",
    "for _ in range(200):\n",
    "    data = recursive_step(data)\n",
    "print(f'The answer to part 2 is {data.sum()}')"
   ]
  }
 ],
 "metadata": {
  "kernelspec": {
   "display_name": "Python 3",
   "language": "python",
   "name": "python3"
  },
  "language_info": {
   "codemirror_mode": {
    "name": "ipython",
    "version": 3
   },
   "file_extension": ".py",
   "mimetype": "text/x-python",
   "name": "python",
   "nbconvert_exporter": "python",
   "pygments_lexer": "ipython3",
   "version": "3.7.4"
  }
 },
 "nbformat": 4,
 "nbformat_minor": 2
}
