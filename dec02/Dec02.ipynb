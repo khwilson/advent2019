{
 "cells": [
  {
   "cell_type": "code",
   "execution_count": 1,
   "metadata": {},
   "outputs": [],
   "source": [
    "import copy\n",
    "import os\n",
    "from typing import List\n",
    "\n",
    "import numpy as np\n",
    "import pandas as pd\n",
    "from matplotlib import pyplot as plt\n",
    "\n",
    "%matplotlib inline"
   ]
  },
  {
   "cell_type": "code",
   "execution_count": 2,
   "metadata": {},
   "outputs": [],
   "source": [
    "def simulate(program: List[int]) -> List[int]:\n",
    "    program = copy.copy(program)\n",
    "    pid = 0\n",
    "    while True:\n",
    "        if program[pid] == 1:\n",
    "            program[program[pid + 3]] = program[program[pid + 1]] + program[program[pid + 2]]\n",
    "        elif program[pid] == 2:\n",
    "            program[program[pid + 3]] = program[program[pid + 1]] * program[program[pid + 2]]\n",
    "        elif program[pid] == 99:\n",
    "            return program\n",
    "        else:\n",
    "            raise ValueError(\"Invalid code: {}\".format(program[pid]))\n",
    "        pid += 4"
   ]
  },
  {
   "cell_type": "code",
   "execution_count": 3,
   "metadata": {},
   "outputs": [],
   "source": [
    "assert all(x == y for x, y in zip(simulate([1, 0, 0, 0, 99]), [2, 0, 0, 0, 99]))\n",
    "assert all(x == y for x, y in zip(simulate([2, 3, 0, 3, 99]), [2, 3, 0, 6, 99]))\n",
    "assert all(x == y for x, y in zip(simulate([1, 1, 1, 4, 99, 5, 6, 0, 99]), [30, 1, 1, 4, 2, 5, 6, 0, 99]))"
   ]
  },
  {
   "cell_type": "code",
   "execution_count": 4,
   "metadata": {},
   "outputs": [
    {
     "name": "stdout",
     "output_type": "stream",
     "text": [
      "The answer to part 1 is 3706713\n"
     ]
    }
   ],
   "source": [
    "with open('input.txt') as f:\n",
    "    program = [int(x) for x in f.read().strip().split(',')]\n",
    "\n",
    "program[1] = 12\n",
    "program[2] = 2\n",
    "output = simulate(program)\n",
    "print(f'The answer to part 1 is {output[0]}')"
   ]
  },
  {
   "cell_type": "code",
   "execution_count": 5,
   "metadata": {},
   "outputs": [
    {
     "name": "stdout",
     "output_type": "stream",
     "text": [
      "The answer to part 2 is 8609\n"
     ]
    }
   ],
   "source": [
    "with open('input.txt') as f:\n",
    "    program = [int(x) for x in f.read().strip().split(',')]\n",
    "\n",
    "desired_answer = 19690720\n",
    "\n",
    "for x in range(len(program)):\n",
    "    for y in range(len(program)):\n",
    "        pro = copy.copy(program)\n",
    "        pro[1] = x\n",
    "        pro[2] = y\n",
    "        try:\n",
    "            output = simulate(pro)\n",
    "        except ValueError:\n",
    "            print('Error')\n",
    "        if output[0] == desired_answer:\n",
    "            print(f'The answer to part 2 is {100 * x + y}')"
   ]
  }
 ],
 "metadata": {
  "kernelspec": {
   "display_name": "Python 3",
   "language": "python",
   "name": "python3"
  },
  "language_info": {
   "codemirror_mode": {
    "name": "ipython",
    "version": 3
   },
   "file_extension": ".py",
   "mimetype": "text/x-python",
   "name": "python",
   "nbconvert_exporter": "python",
   "pygments_lexer": "ipython3",
   "version": "3.7.4"
  }
 },
 "nbformat": 4,
 "nbformat_minor": 2
}
