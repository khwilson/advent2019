{
 "cells": [
  {
   "cell_type": "code",
   "execution_count": 1,
   "metadata": {},
   "outputs": [],
   "source": [
    "import copy\n",
    "import itertools as its\n",
    "import os\n",
    "import pathlib\n",
    "from typing import Dict, List, Optional\n",
    "from collections import defaultdict\n",
    "\n",
    "import networkx as nx\n",
    "import numpy as np\n",
    "import pandas as pd\n",
    "from matplotlib import pyplot as plt\n",
    "\n",
    "from aoc import sim, testing\n",
    "\n",
    "%matplotlib inline\n",
    "\n",
    "INPUT_PATH = pathlib.Path('..') / 'input' / 'dec08.txt'"
   ]
  },
  {
   "cell_type": "code",
   "execution_count": 2,
   "metadata": {},
   "outputs": [],
   "source": [
    "WIDTH = 25\n",
    "HEIGHT = 6\n",
    "TOTAL = WIDTH * HEIGHT\n",
    "\n",
    "data = list(map(int, INPUT_PATH.read_text().strip()))"
   ]
  },
  {
   "cell_type": "code",
   "execution_count": 3,
   "metadata": {},
   "outputs": [],
   "source": [
    "# Make sure image is 25 x 6\n",
    "assert len(data) % TOTAL == 0"
   ]
  },
  {
   "cell_type": "code",
   "execution_count": 4,
   "metadata": {},
   "outputs": [
    {
     "data": {
      "text/plain": [
       "(100, 6, 25)"
      ]
     },
     "execution_count": 4,
     "metadata": {},
     "output_type": "execute_result"
    }
   ],
   "source": [
    "base_array = np.array(data)\n",
    "layers = np.array(base_array).reshape(-1, HEIGHT, WIDTH)\n",
    "\n",
    "# How big is this image?\n",
    "layers.shape"
   ]
  },
  {
   "cell_type": "code",
   "execution_count": 5,
   "metadata": {},
   "outputs": [],
   "source": [
    "# Make sure I understand the numpy reshape command (I don't)\n",
    "assert (layers[0, 0, :] == base_array[:WIDTH]).all()\n",
    "assert (layers[0, 1, :] == base_array[WIDTH:2*WIDTH]).all()"
   ]
  },
  {
   "cell_type": "code",
   "execution_count": 6,
   "metadata": {},
   "outputs": [
    {
     "name": "stdout",
     "output_type": "stream",
     "text": [
      "The answer to part 1 is 2520\n"
     ]
    }
   ],
   "source": [
    "min_layer = (layers == 0).sum(axis=2).sum(axis=1).argmin()\n",
    "answer = (layers[min_layer, :, :] == 1).sum() * (layers[min_layer, :, :] == 2).sum()\n",
    "print(f'The answer to part 1 is {answer}')"
   ]
  },
  {
   "cell_type": "code",
   "execution_count": 7,
   "metadata": {},
   "outputs": [
    {
     "name": "stdout",
     "output_type": "stream",
     "text": [
      "The answer to part 2 is shown below\n"
     ]
    },
    {
     "data": {
      "image/png": "[encoded data removed]",
      "text/plain": [
       "<Figure size 432x288 with 1 Axes>"
      ]
     },
     "metadata": {
      "needs_background": "light"
     },
     "output_type": "display_data"
    }
   ],
   "source": [
    "image = np.array([[2] * WIDTH] * HEIGHT)\n",
    "for layer_idx in range(layers.shape[0]):\n",
    "    layer = layers[layer_idx, :, :]\n",
    "    image[image == 2] = layer[image == 2]\n",
    "\n",
    "print('The answer to part 2 is shown below')\n",
    "plt.imshow(image);"
   ]
  },
  {
   "cell_type": "code",
   "execution_count": null,
   "metadata": {},
   "outputs": [],
   "source": []
  }
 ],
 "metadata": {
  "kernelspec": {
   "display_name": "Python 3",
   "language": "python",
   "name": "python3"
  },
  "language_info": {
   "codemirror_mode": {
    "name": "ipython",
    "version": 3
   },
   "file_extension": ".py",
   "mimetype": "text/x-python",
   "name": "python",
   "nbconvert_exporter": "python",
   "pygments_lexer": "ipython3",
   "version": "3.7.4"
  }
 },
 "nbformat": 4,
 "nbformat_minor": 2
}
