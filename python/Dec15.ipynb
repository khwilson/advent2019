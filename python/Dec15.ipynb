{
 "cells": [
  {
   "cell_type": "code",
   "execution_count": 1,
   "metadata": {},
   "outputs": [],
   "source": [
    "import copy\n",
    "import itertools as its\n",
    "import math\n",
    "import os\n",
    "import pathlib\n",
    "import re\n",
    "import sys\n",
    "from typing import Dict, List, Optional, Tuple, Union\n",
    "from collections import Counter, defaultdict, deque\n",
    "\n",
    "import networkx as nx\n",
    "import numpy as np\n",
    "import pandas as pd\n",
    "from IPython.display import clear_output\n",
    "from matplotlib import pyplot as plt\n",
    "\n",
    "from aoc import sim_new as sim, testing, util\n",
    "\n",
    "twopi = 2 * math.pi\n",
    "\n",
    "%matplotlib inline\n",
    "\n",
    "INPUT_PATH = pathlib.Path('..') / 'input' / 'dec15.txt'"
   ]
  },
  {
   "cell_type": "code",
   "execution_count": 2,
   "metadata": {},
   "outputs": [],
   "source": [
    "WALL = 0\n",
    "MOVED = 1\n",
    "OXYGEN = 2\n",
    "UNSEEN = 3\n",
    "\n",
    "UP, DOWN, LEFT, RIGHT = 1, 2, 3, 4\n",
    "OPPOSITE = [None, 2, 1, 4, 3]\n",
    "\n",
    "class InputWrapper:\n",
    "    def __init__(self, robot):\n",
    "        self.robot = robot\n",
    "        self.stack = [(None, 0, 0)]\n",
    "    \n",
    "    def get(self):\n",
    "        while self.stack:\n",
    "            for i, direction in enumerate(util.four_ways(self.robot.pos_x, self.robot.pos_y), 1):\n",
    "                if self.robot.painted[direction] == UNSEEN:\n",
    "                    self.stack.append((i, direction[0], direction[1]))\n",
    "                    return i\n",
    "            \n",
    "            # If we've been everywhere, go back where we came\n",
    "            last_dir = self.stack.pop()[0]\n",
    "            if last_dir is None:\n",
    "                # We're out of steps! Halt\n",
    "                return None\n",
    "            return OPPOSITE[last_dir]\n",
    "\n",
    "class OutputWrapper:\n",
    "    def __init__(self, robot, input_wrapper):\n",
    "        self.robot = robot\n",
    "        self.input_wrapper = input_wrapper\n",
    "    \n",
    "    def __call__(self, val):\n",
    "        last_dir, to_x, to_y = self.input_wrapper.stack[-1]\n",
    "        self.robot.painted[(to_x, to_y)] = val\n",
    "        \n",
    "        if val == WALL:\n",
    "            # We're in the same place. Don't step\n",
    "            self.input_wrapper.stack.pop()\n",
    "        elif val in [MOVED, OXYGEN]:\n",
    "            # Open space. Step.\n",
    "            self.robot.pos_x = to_x\n",
    "            self.robot.pos_y = to_y\n",
    "            \n",
    "class Robot:\n",
    "    def __init__(self, ops):\n",
    "        self.ops = ops\n",
    "        self.pos_x = 0\n",
    "        self.pos_y = 0\n",
    "        self.painted = defaultdict(lambda: UNSEEN)\n",
    "        self.painted[(0, 0)] = MOVED\n",
    "\n",
    "    def simulate(self):\n",
    "        input_wrapper = InputWrapper(self)\n",
    "        output_wrapper = OutputWrapper(self, input_wrapper)\n",
    "        sim.simulate(self.ops, inputs=input_wrapper, output_func=output_wrapper)\n",
    "    \n",
    "    def printme(self):\n",
    "        min_x = min(key[0] for key in self.painted.keys())\n",
    "        max_x = max(key[0] for key in self.painted.keys())\n",
    "        min_y = min(key[1] for key in self.painted.keys())\n",
    "        max_y = max(key[1] for key in self.painted.keys())\n",
    "        for y in range(min_y, max_y + 1):\n",
    "            for x in range(min_x, max_x + 1):\n",
    "                if self.painted[(x, y)] == MOVED:\n",
    "                    print('.', end='')\n",
    "                elif self.painted[(x, y)] == WALL:\n",
    "                    print('#', end='')\n",
    "                elif self.painted[(x, y)] == OXYGEN:\n",
    "                    print('O', end='')\n",
    "                else:\n",
    "                    print('~', end='')\n",
    "            print()        "
   ]
  },
  {
   "cell_type": "code",
   "execution_count": 3,
   "metadata": {},
   "outputs": [],
   "source": [
    "# Explore the space with DFS\n",
    "robot = Robot(sim.read_ops(INPUT_PATH.read_text().strip()))\n",
    "robot.simulate()"
   ]
  },
  {
   "cell_type": "code",
   "execution_count": 4,
   "metadata": {},
   "outputs": [
    {
     "name": "stdout",
     "output_type": "stream",
     "text": [
      "~###~###########~###########~#####~#####~\n",
      "#...#...........#...........#.....#.....#\n",
      "#.#.#######.#####.#####.###.###.#.#####.#\n",
      "#.#.#.....#.#...#.#...#...#.....#.......#\n",
      "#.#.#.###.#.#.#.#.###.###.######~######.#\n",
      "#.#...#O#.#.#.#...#...#...#.....#.......#\n",
      "#.#####.#.#.#.#####.#.#.#.#.###.#.######~\n",
      "#.....#.#.#.#.......#.#.#.#.#...#.#.....#\n",
      "#.###.#.#.#.#.#######.#.###.#.###.#.###.#\n",
      "#.#...#...#...#.....#.#.#...#.#.....#.#.#\n",
      "#.#.###.#####.#.###.###.#.###.#######.#.#\n",
      "#.#...#.....#.#.#.......#...#.....#...#.#\n",
      "#.###.#####.###.#######.###.#####.###.#.#\n",
      "#...#.....#.....#.....#.#...#...#...#...#\n",
      "~######.#.#.#####.###.###.#####.###.#.##~\n",
      "#.....#.#.#.#.....#.#.....#.......#.#.#.#\n",
      "#.###.###.###.#####.#######.#######.#.#.#\n",
      "#.#.......#...#.............#.......#...#\n",
      "#.#.#######.###.#.#########.#.######~##.#\n",
      "#.#...#...#.#...#.#.....#.#.#...#...#...#\n",
      "#.###.#.#.#.#.#.###.###.#.#.###.#.###.##~\n",
      "#.#.#.#.#...#.#...#...#.#.....#.#.#...#.#\n",
      "#.#.#.#.#####.###.#####.#######.#.#.###.#\n",
      "#.#...#...#.....#.....#.........#...#...#\n",
      "#.#######.#########.#.###########.###.#.#\n",
      "#.......#.#.......#.#.#.......#...#.#.#.#\n",
      "~####.###.#.#####.#.#.#.#.#.###.###.#.#.#\n",
      "#...#...#...#...#.#.#...#.#.#...#.....#.#\n",
      "#.#.###.#####.#.#.#######.###.###.#####.#\n",
      "#.#...#...#...#...#.......#...#.....#...#\n",
      "#.###.#.#.#.##~####.#####.#.#########.#.#\n",
      "#...#.#.#.#...#.........#.#.......#...#.#\n",
      "#.#.#.#.#.###.#.#######.#########.#.###.#\n",
      "#.#.#.#.#...#.#.......#.#.......#...#...#\n",
      "~##.#.#.#####.#####.###.#.#.#########.##~\n",
      "#...#.#.......#...#.#...#.#.........#...#\n",
      "#.####~########.###.#.###.#########.###.#\n",
      "#.#...#.......#...#.#.....#.....#...#...#\n",
      "#.#.#.#.###.###.#.#.#########.#.#.###.##~\n",
      "#...#.....#.....#.............#.#.......#\n",
      "~###~#####~#####~#############~#~#######~\n"
     ]
    }
   ],
   "source": [
    "robot.printme()"
   ]
  },
  {
   "cell_type": "code",
   "execution_count": 5,
   "metadata": {},
   "outputs": [],
   "source": [
    "# Then get distances with BFS\n",
    "def dist(\n",
    "      painted: Dict[Tuple[int, int], int],\n",
    "      start: Tuple[int, int] = (0, 0),\n",
    "      stop: Optional[Tuple[int, int]] = None\n",
    "    ) -> Union[int, Dict[Tuple[int, int], int]]:\n",
    "    \"\"\"\n",
    "    Return the distance to stop from start if present, else return\n",
    "    all pairs distances from start.\n",
    "    \n",
    "    painted is structured as in the Robot class above\n",
    "    \"\"\"\n",
    "    queue = deque([(0, start)])  # (Distance from start, (x, y))\n",
    "    seen = {start: 0}  # (x, y): distance from start\n",
    "    while queue:\n",
    "        dist, (x, y) = queue.popleft()\n",
    "        for to in util.four_ways(x, y):\n",
    "            if stop and to == stop:\n",
    "                return dist + 1\n",
    "            if to not in seen and painted[to] != WALL:\n",
    "                seen[to] = dist + 1\n",
    "                queue.append((dist + 1, to))\n",
    "    return seen"
   ]
  },
  {
   "cell_type": "code",
   "execution_count": 6,
   "metadata": {},
   "outputs": [
    {
     "name": "stdout",
     "output_type": "stream",
     "text": [
      "The answer to part 1 is 242\n"
     ]
    }
   ],
   "source": [
    "ox = [key for key, val in robot.painted.items() if val == OXYGEN][0]\n",
    "print(f'The answer to part 1 is {dist(robot.painted, stop=ox)}')"
   ]
  },
  {
   "cell_type": "code",
   "execution_count": 7,
   "metadata": {},
   "outputs": [
    {
     "name": "stdout",
     "output_type": "stream",
     "text": [
      "The answer to part 2 is 276\n"
     ]
    }
   ],
   "source": [
    "print(f'The answer to part 2 is {max(dist(robot.painted, start=ox).values())}')"
   ]
  },
  {
   "cell_type": "code",
   "execution_count": null,
   "metadata": {},
   "outputs": [],
   "source": []
  }
 ],
 "metadata": {
  "kernelspec": {
   "display_name": "Python 3",
   "language": "python",
   "name": "python3"
  },
  "language_info": {
   "codemirror_mode": {
    "name": "ipython",
    "version": 3
   },
   "file_extension": ".py",
   "mimetype": "text/x-python",
   "name": "python",
   "nbconvert_exporter": "python",
   "pygments_lexer": "ipython3",
   "version": "3.7.4"
  }
 },
 "nbformat": 4,
 "nbformat_minor": 2
}
