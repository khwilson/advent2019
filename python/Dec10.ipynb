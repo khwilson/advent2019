{
 "cells": [
  {
   "cell_type": "code",
   "execution_count": 1,
   "metadata": {},
   "outputs": [],
   "source": [
    "import copy\n",
    "import itertools as its\n",
    "import math\n",
    "import os\n",
    "import pathlib\n",
    "from typing import Dict, List, Optional\n",
    "from collections import Counter, defaultdict\n",
    "\n",
    "import networkx as nx\n",
    "import numpy as np\n",
    "import pandas as pd\n",
    "from matplotlib import pyplot as plt\n",
    "\n",
    "from aoc import sim_new as sim, testing, util\n",
    "\n",
    "twopi = 2 * math.pi\n",
    "\n",
    "%matplotlib inline\n",
    "\n",
    "INPUT_PATH = pathlib.Path('..') / 'input' / 'dec10.txt'"
   ]
  },
  {
   "cell_type": "code",
   "execution_count": 2,
   "metadata": {},
   "outputs": [],
   "source": [
    "def get_asteroids(text):\n",
    "    return [\n",
    "        (x, y)\n",
    "        for y, line in enumerate(text.strip().split('\\n'))\n",
    "        for x, c in enumerate(line.strip())\n",
    "        if c == '#'\n",
    "    ]"
   ]
  },
  {
   "cell_type": "code",
   "execution_count": 3,
   "metadata": {},
   "outputs": [],
   "source": [
    "test_input1 = \"\"\"\\\n",
    "......#.#.\n",
    "#..#.#....\n",
    "..#######.\n",
    ".#.#.###..\n",
    ".#..#.....\n",
    "..#....#.#\n",
    "#..#....#.\n",
    ".##.#..###\n",
    "##...#..#.\n",
    ".#....####\"\"\"\n",
    "test_asteroids1 = get_asteroids(test_input1)\n",
    "\n",
    "test_input2 = \"\"\"\\\n",
    ".#..#\n",
    ".....\n",
    "#####\n",
    "....#\n",
    "...##\"\"\"\n",
    "test_asteroids2 = get_asteroids(test_input2)"
   ]
  },
  {
   "cell_type": "code",
   "execution_count": 4,
   "metadata": {},
   "outputs": [],
   "source": [
    "asteroids = get_asteroids(INPUT_PATH.read_text())"
   ]
  },
  {
   "cell_type": "code",
   "execution_count": null,
   "metadata": {},
   "outputs": [],
   "source": []
  },
  {
   "cell_type": "code",
   "execution_count": 5,
   "metadata": {},
   "outputs": [],
   "source": [
    "def get_answer(asteroids):\n",
    "    vis_by_base = {}\n",
    "    for base in asteroids:\n",
    "        vis_by_slope = defaultdict(list)\n",
    "        vis_by_base[base] = vis_by_slope\n",
    "        for other in asteroids:\n",
    "            if other == base:\n",
    "                continue\n",
    "\n",
    "            # Get the slope; Note that sign matters\n",
    "            slope_x_lg = base[0] - other[0]\n",
    "            slope_y_lg = base[1] - other[1]\n",
    "            if slope_y_lg == 0:\n",
    "                slope_x = 1 if slope_x_lg > 0 else -1\n",
    "                slope_y = 0\n",
    "            elif slope_x_lg == 0:\n",
    "                slope_x = 0\n",
    "                slope_y = 1 if slope_y_lg > 0 else -1\n",
    "            else:\n",
    "                d = util.gcd(slope_x_lg, slope_y_lg)\n",
    "                slope_x = slope_x_lg // d\n",
    "                slope_y = slope_y_lg // d\n",
    "            slope = (slope_x, slope_y)\n",
    "            vis_by_slope[slope].append((other[0], other[1]))\n",
    "    return vis_by_base"
   ]
  },
  {
   "cell_type": "code",
   "execution_count": 6,
   "metadata": {},
   "outputs": [],
   "source": [
    "assert max(len(v) for v in get_answer(test_asteroids1).values()) == 33\n",
    "assert max(len(v) for v in get_answer(test_asteroids2).values()) == 8"
   ]
  },
  {
   "cell_type": "code",
   "execution_count": 7,
   "metadata": {},
   "outputs": [
    {
     "name": "stdout",
     "output_type": "stream",
     "text": [
      "The answer to part 1 is 286\n"
     ]
    }
   ],
   "source": [
    "print(f'The answer to part 1 is {max(len(v) for v in get_answer(asteroids).values())}')"
   ]
  },
  {
   "cell_type": "code",
   "execution_count": 8,
   "metadata": {},
   "outputs": [],
   "source": [
    "ans = get_answer(asteroids)\n",
    "station = [key for key, val in ans.items() if len(val) == 286][0]"
   ]
  },
  {
   "cell_type": "code",
   "execution_count": 9,
   "metadata": {},
   "outputs": [
    {
     "name": "stdout",
     "output_type": "stream",
     "text": [
      "The answer to part 2 is 504\n"
     ]
    }
   ],
   "source": [
    "viz = ans[station]\n",
    "for val in viz.values():\n",
    "    val.sort(key=lambda other: -util.dist(other, station))\n",
    "\n",
    "# Sort slopes by angle; note the -x here is because left/right hand rule issues\n",
    "slope_viz = sorted((math.atan2(-x, y) % twopi, (x, y)) for x, y in viz)\n",
    "counter = 0\n",
    "\n",
    "for theta, slope in its.cycle(slope_viz):\n",
    "    if viz[slope]:\n",
    "        point = viz[slope].pop()\n",
    "        counter += 1\n",
    "        if counter == 200:\n",
    "            print(f'The answer to part 2 is {100 * point[0] + point[1]}')\n",
    "            break"
   ]
  }
 ],
 "metadata": {
  "kernelspec": {
   "display_name": "Python 3",
   "language": "python",
   "name": "python3"
  },
  "language_info": {
   "codemirror_mode": {
    "name": "ipython",
    "version": 3
   },
   "file_extension": ".py",
   "mimetype": "text/x-python",
   "name": "python",
   "nbconvert_exporter": "python",
   "pygments_lexer": "ipython3",
   "version": "3.7.4"
  }
 },
 "nbformat": 4,
 "nbformat_minor": 2
}
