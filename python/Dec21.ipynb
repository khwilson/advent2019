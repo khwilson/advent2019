{
 "cells": [
  {
   "cell_type": "code",
   "execution_count": 1,
   "metadata": {},
   "outputs": [],
   "source": [
    "import copy\n",
    "import itertools as its\n",
    "import math\n",
    "import os\n",
    "import pathlib\n",
    "import re\n",
    "import sys\n",
    "from typing import Dict, List, Optional, Tuple, Union\n",
    "from collections import Counter, defaultdict, deque\n",
    "\n",
    "import networkx as nx\n",
    "import numpy as np\n",
    "import pandas as pd\n",
    "from IPython.display import clear_output\n",
    "from matplotlib import pyplot as plt\n",
    "\n",
    "from aoc import sim_new as sim, testing, util\n",
    "\n",
    "twopi = 2 * math.pi\n",
    "\n",
    "%matplotlib inline\n",
    "\n",
    "INPUT_PATH = pathlib.Path('..') / 'input' / 'dec21.txt'"
   ]
  },
  {
   "cell_type": "code",
   "execution_count": 2,
   "metadata": {},
   "outputs": [],
   "source": [
    "class AsciiOutput:\n",
    "    def __call__(self, val):\n",
    "        try:\n",
    "            print(chr(val), end='')\n",
    "        except ValueError:\n",
    "            print(f'The answer is {val}')\n",
    "\n",
    "class AsciiInput:\n",
    "    def __init__(self, pre: str = ''):\n",
    "        self.queue = deque([])\n",
    "        pre = pre.strip()\n",
    "        if pre:\n",
    "            for c in pre:\n",
    "                self.queue.append(ord(c))\n",
    "            self.queue.append(ord('\\n'))\n",
    "\n",
    "    def get(self):\n",
    "        if not self.queue:\n",
    "            val = input('Input? ')\n",
    "            val = val.strip()\n",
    "            for c in val:\n",
    "                self.queue.append(ord(c))\n",
    "            self.queue.append(ord('\\n'))\n",
    "        return self.queue.popleft()\n",
    "\n",
    "class SpringBot:\n",
    "    def __init__(self, ops):\n",
    "        self.ops = ops\n",
    "        \n",
    "    def simulate(self, pre: Optional[List[str]] = None):\n",
    "        sim.simulate(self.ops, inputs=AsciiInput(pre=pre), output_func=AsciiOutput())"
   ]
  },
  {
   "cell_type": "code",
   "execution_count": 3,
   "metadata": {},
   "outputs": [],
   "source": [
    "ops = sim.read_ops(INPUT_PATH.read_text().strip())"
   ]
  },
  {
   "cell_type": "code",
   "execution_count": 4,
   "metadata": {},
   "outputs": [],
   "source": [
    "robot = SpringBot(ops)"
   ]
  },
  {
   "cell_type": "markdown",
   "metadata": {},
   "source": [
    "Jump when\n",
    "  * Four spots ahead is open (`OR D _`)\n",
    "  * Somewhere between there and now is a hole?\n",
    "    - NOT A J\n",
    "    - NOT B T\n",
    "    - OR T J\n",
    "    - NOT C T\n",
    "    - OR T J\n",
    "    - AND D J"
   ]
  },
  {
   "cell_type": "code",
   "execution_count": 5,
   "metadata": {},
   "outputs": [],
   "source": [
    "program = \"\"\"\n",
    "NOT A J\n",
    "NOT B T\n",
    "OR T J\n",
    "NOT C T\n",
    "OR T J\n",
    "AND D J\n",
    "WALK\n",
    "\"\"\""
   ]
  },
  {
   "cell_type": "code",
   "execution_count": 6,
   "metadata": {},
   "outputs": [
    {
     "name": "stdout",
     "output_type": "stream",
     "text": [
      "Input instructions:\n",
      "\n",
      "Walking...\n",
      "\n",
      "The answer is 19359969\n"
     ]
    }
   ],
   "source": [
    "robot.simulate(pre=program)"
   ]
  },
  {
   "cell_type": "markdown",
   "metadata": {},
   "source": [
    "Jump when\n",
    "  * Four spots ahead is open (`AND D _`)\n",
    "  * Somewhere between there and now is a hole?\n",
    "    - NOT A J\n",
    "    - NOT B T\n",
    "    - OR T J\n",
    "    - NOT C T\n",
    "    - OR T J\n",
    "    - AND D J\n",
    "  * But not if the space 5 is a hole and space 8 is a hole\n",
    "    - NOT E T\n",
    "    - NOT T T\n",
    "    - OR H T\n",
    "    - AND T J"
   ]
  },
  {
   "cell_type": "code",
   "execution_count": 7,
   "metadata": {},
   "outputs": [],
   "source": [
    "program = \"\"\"\n",
    "NOT A J\n",
    "NOT B T\n",
    "OR T J\n",
    "NOT C T\n",
    "OR T J\n",
    "AND D J\n",
    "NOT E T\n",
    "NOT T T\n",
    "OR H T\n",
    "AND T J\n",
    "RUN\n",
    "\"\"\""
   ]
  },
  {
   "cell_type": "code",
   "execution_count": 8,
   "metadata": {},
   "outputs": [
    {
     "name": "stdout",
     "output_type": "stream",
     "text": [
      "Input instructions:\n",
      "\n",
      "Running...\n",
      "\n",
      "The answer is 1140082748\n"
     ]
    }
   ],
   "source": [
    "robot.simulate(pre=program)"
   ]
  }
 ],
 "metadata": {
  "kernelspec": {
   "display_name": "Python 3",
   "language": "python",
   "name": "python3"
  },
  "language_info": {
   "codemirror_mode": {
    "name": "ipython",
    "version": 3
   },
   "file_extension": ".py",
   "mimetype": "text/x-python",
   "name": "python",
   "nbconvert_exporter": "python",
   "pygments_lexer": "ipython3",
   "version": "3.7.4"
  }
 },
 "nbformat": 4,
 "nbformat_minor": 2
}
