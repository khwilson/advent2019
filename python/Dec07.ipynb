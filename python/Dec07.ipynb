{
 "cells": [
  {
   "cell_type": "code",
   "execution_count": 1,
   "metadata": {},
   "outputs": [],
   "source": [
    "import copy\n",
    "import itertools as its\n",
    "import os\n",
    "import pathlib\n",
    "from typing import Dict, List, Optional\n",
    "from collections import defaultdict\n",
    "\n",
    "import networkx as nx\n",
    "import numpy as np\n",
    "import pandas as pd\n",
    "from matplotlib import pyplot as plt\n",
    "\n",
    "from aoc import sim, testing\n",
    "\n",
    "%matplotlib inline\n",
    "\n",
    "INPUT_PATH = pathlib.Path('..') / 'input' / 'dec07.txt'"
   ]
  },
  {
   "cell_type": "code",
   "execution_count": 2,
   "metadata": {},
   "outputs": [],
   "source": [
    "test_input1 = '3,15,3,16,1002,16,10,16,1,16,15,15,4,15,99,0,0'\n",
    "test_input2 = '3,23,3,24,1002,24,10,24,1002,23,-1,23,101,5,23,23,1,24,23,23,4,23,99,0,0'\n",
    "test_input3 = '3,31,3,32,1002,32,10,32,1001,31,-2,31,1007,31,0,33,1002,33,7,33,1,33,31,31,1,32,31,31,4,31,99,0,0,0'"
   ]
  },
  {
   "cell_type": "code",
   "execution_count": 3,
   "metadata": {},
   "outputs": [],
   "source": [
    "test_ops1 = sim.read_ops(test_input1)\n",
    "test_ops2 = sim.read_ops(test_input2)\n",
    "test_ops3 = sim.read_ops(test_input3)"
   ]
  },
  {
   "cell_type": "code",
   "execution_count": 4,
   "metadata": {},
   "outputs": [],
   "source": [
    "class Capture:\n",
    "    def __init__(self, output: Optional[int] = None, retval: bool = True):\n",
    "        self.output = output\n",
    "        self.retval = retval\n",
    "\n",
    "    def __call__(self, output: int) -> bool:\n",
    "        self.output = output\n",
    "        return self.retval\n",
    "\n",
    "def get_max_output(ops: List[int]) -> int:\n",
    "    max_output = -float('inf')\n",
    "    for settings in its.permutations([0, 1, 2, 3, 4]):\n",
    "        cap = Capture(0)\n",
    "        for setting in settings:\n",
    "            sim.simulate(ops, inputs=[setting, cap.output], output_func=cap)\n",
    "        max_output = max(max_output, cap.output)\n",
    "    return max_output"
   ]
  },
  {
   "cell_type": "code",
   "execution_count": 5,
   "metadata": {},
   "outputs": [],
   "source": [
    "assert get_max_output(test_ops1) == 43210\n",
    "assert get_max_output(test_ops2) == 54321\n",
    "assert get_max_output(test_ops3) == 65210"
   ]
  },
  {
   "cell_type": "code",
   "execution_count": 6,
   "metadata": {},
   "outputs": [
    {
     "name": "stdout",
     "output_type": "stream",
     "text": [
      "The answer for part 1 is 17440\n"
     ]
    }
   ],
   "source": [
    "ops = sim.read_ops(INPUT_PATH.read_text())\n",
    "print(f'The answer for part 1 is {get_max_output(ops)}')"
   ]
  },
  {
   "cell_type": "code",
   "execution_count": 7,
   "metadata": {},
   "outputs": [],
   "source": [
    "def get_max_feedback_output(ops: List[int]) -> int:\n",
    "    max_output = -float('inf')\n",
    "    for settings in its.permutations([5, 6, 7, 8, 9]):\n",
    "        cap = Capture(0)\n",
    "        all_ops = [copy.copy(ops) for _ in range(5)]\n",
    "        pids = [0, 0, 0, 0, 0]\n",
    "        \n",
    "        for i, (setting, my_ops) in enumerate(zip(settings, all_ops)):\n",
    "            pid = pids[i]\n",
    "            pid = sim.simulate(my_ops, inplace=True, inputs=[setting, cap.output], output_func=cap, starting_pid=pid)\n",
    "            pids[i] = pid\n",
    "            if pid == -1:\n",
    "                break\n",
    "\n",
    "        for i, my_ops in enumerate(its.cycle(all_ops)):\n",
    "            pid = pids[i % 5]\n",
    "            pid = sim.simulate(my_ops, inplace=True, inputs=[cap.output], output_func=cap, starting_pid=pid)\n",
    "            pids[i % 5] = pid\n",
    "            if pid == -1:\n",
    "                break\n",
    "\n",
    "        max_output = max(max_output, cap.output)\n",
    "    return max_output"
   ]
  },
  {
   "cell_type": "code",
   "execution_count": 8,
   "metadata": {},
   "outputs": [],
   "source": [
    "test_input4 = '3,26,1001,26,-4,26,3,27,1002,27,2,27,1,27,26,27,4,27,1001,28,-1,28,1005,28,6,99,0,0,5'\n",
    "test_input5 = '3,52,1001,52,-5,52,3,53,1,52,56,54,1007,54,5,55,1005,55,26,1001,54,-5,54,1105,1,12,1,53,54,53,1008,54,0,55,1001,55,1,55,2,53,55,53,4,53,1001,56,-1,56,1005,56,6,99,0,0,0,0,10'"
   ]
  },
  {
   "cell_type": "code",
   "execution_count": 9,
   "metadata": {},
   "outputs": [],
   "source": [
    "test_ops4 = sim.read_ops(test_input4)\n",
    "test_ops5 = sim.read_ops(test_input5)\n",
    "\n",
    "assert get_max_feedback_output(test_ops4) == 139629729\n",
    "assert get_max_feedback_output(test_ops5) == 18216"
   ]
  },
  {
   "cell_type": "code",
   "execution_count": 10,
   "metadata": {},
   "outputs": [
    {
     "name": "stdout",
     "output_type": "stream",
     "text": [
      "The answer to part 2 is 27561242\n"
     ]
    }
   ],
   "source": [
    "print(f'The answer to part 2 is {get_max_feedback_output(ops)}')"
   ]
  },
  {
   "cell_type": "code",
   "execution_count": null,
   "metadata": {},
   "outputs": [],
   "source": []
  }
 ],
 "metadata": {
  "kernelspec": {
   "display_name": "Python 3",
   "language": "python",
   "name": "python3"
  },
  "language_info": {
   "codemirror_mode": {
    "name": "ipython",
    "version": 3
   },
   "file_extension": ".py",
   "mimetype": "text/x-python",
   "name": "python",
   "nbconvert_exporter": "python",
   "pygments_lexer": "ipython3",
   "version": "3.7.4"
  }
 },
 "nbformat": 4,
 "nbformat_minor": 2
}
