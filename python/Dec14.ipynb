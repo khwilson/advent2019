{
 "cells": [
  {
   "cell_type": "code",
   "execution_count": 1,
   "metadata": {},
   "outputs": [],
   "source": [
    "import copy\n",
    "import itertools as its\n",
    "import math\n",
    "import os\n",
    "import pathlib\n",
    "import re\n",
    "import sys\n",
    "from typing import Dict, List, Optional\n",
    "from collections import Counter, defaultdict, deque\n",
    "\n",
    "import networkx as nx\n",
    "import numpy as np\n",
    "import pandas as pd\n",
    "from IPython.display import clear_output\n",
    "from matplotlib import pyplot as plt\n",
    "\n",
    "from aoc import sim_new as sim, testing, util\n",
    "\n",
    "twopi = 2 * math.pi\n",
    "\n",
    "%matplotlib inline\n",
    "\n",
    "INPUT_PATH = pathlib.Path('..') / 'input' / 'dec14.txt'"
   ]
  },
  {
   "cell_type": "code",
   "execution_count": 2,
   "metadata": {},
   "outputs": [],
   "source": [
    "def split_val(x):\n",
    "    amt, name = x.split(' ')\n",
    "    amt = int(amt)\n",
    "    return name, amt\n",
    "\n",
    "def split_formula(x):\n",
    "    return x.split(' => ')\n",
    "\n",
    "def split_lhs(x):\n",
    "    return x.split(', ')\n",
    "\n",
    "def process_formula(x):\n",
    "    left, right = split_formula(x)\n",
    "    output = split_val(right)\n",
    "    inputs = [split_val(y) for y in split_lhs(left)]\n",
    "    return inputs, output"
   ]
  },
  {
   "cell_type": "code",
   "execution_count": 3,
   "metadata": {},
   "outputs": [],
   "source": [
    "create_dict = {}\n",
    "for formula in INPUT_PATH.read_text().strip().split('\\n'):\n",
    "    inputs, output = process_formula(formula)\n",
    "    create_dict[output[0]] = (output[1], inputs)"
   ]
  },
  {
   "cell_type": "code",
   "execution_count": 4,
   "metadata": {},
   "outputs": [],
   "source": [
    "def ore_for_fuel(num_fuel: int) -> int:\n",
    "    to_make = deque([('FUEL', num_fuel)])\n",
    "    available = defaultdict(int)\n",
    "    num_ore_needed = 0\n",
    "\n",
    "    while to_make:\n",
    "        output, output_amt = to_make.popleft()\n",
    "\n",
    "        # Use extra\n",
    "        foo = min(available[output], output_amt)\n",
    "        available[output] -= foo\n",
    "        output_amt -= foo\n",
    "\n",
    "        # How many times do we need to run the recipe?\n",
    "        create_amt, inputs = create_dict[output]\n",
    "        num_recipes = output_amt // create_amt\n",
    "\n",
    "        # Remainder must still be accounted for\n",
    "        num_recipes += 1 if output_amt % create_amt != 0 else 0\n",
    "\n",
    "        # Stack up things we need\n",
    "        for input_thing, input_amt in inputs:\n",
    "            input_amt *= num_recipes\n",
    "            \n",
    "            # Use extra\n",
    "            foo = min(available[input_thing], input_amt)\n",
    "            available[input_thing] -= foo\n",
    "            input_amt -= foo\n",
    "\n",
    "            if input_thing == 'ORE':\n",
    "                # Found the root\n",
    "                num_ore_needed += input_amt\n",
    "            else:\n",
    "                # Keep going\n",
    "                to_make.append((input_thing, input_amt))\n",
    "\n",
    "        # After executing this recipe, we have the remainder available\n",
    "        available[output] += (num_recipes * create_amt) - output_amt\n",
    "    return num_ore_needed"
   ]
  },
  {
   "cell_type": "code",
   "execution_count": 5,
   "metadata": {},
   "outputs": [
    {
     "name": "stdout",
     "output_type": "stream",
     "text": [
      "The answer to part 1 is 202617\n"
     ]
    }
   ],
   "source": [
    "print(f'The answer to part 1 is {ore_for_fuel(1)}')"
   ]
  },
  {
   "cell_type": "code",
   "execution_count": 6,
   "metadata": {},
   "outputs": [],
   "source": [
    "# To determine how much fuel we can make with 1_000_000_000_000 ore,\n",
    "# we just do baby step / giant step. First get the max\n",
    "\n",
    "HAVE_ORE = 1_000_000_000_000\n",
    "cur_amt = 1\n",
    "while True:\n",
    "    \n",
    "    need_ore = ore_for_fuel(cur_amt)\n",
    "    if need_ore < HAVE_ORE:\n",
    "        cur_amt *= 2\n",
    "    else:\n",
    "        break"
   ]
  },
  {
   "cell_type": "code",
   "execution_count": 7,
   "metadata": {},
   "outputs": [],
   "source": [
    "# Now binary search\n",
    "max_val = cur_amt\n",
    "min_val = cur_amt // 2\n",
    "cur_amt = (min_val + max_val) // 2\n",
    "while True:\n",
    "    need_ore = ore_for_fuel(cur_amt)\n",
    "    if need_ore <= HAVE_ORE:\n",
    "        next_amt = (cur_amt + max_val) // 2\n",
    "        if next_amt == cur_amt:\n",
    "            break\n",
    "        min_val = cur_amt\n",
    "        cur_amt = next_amt\n",
    "    else:\n",
    "        next_amt = (cur_amt + min_val) // 2\n",
    "        max_val = cur_amt\n",
    "        cur_amt = next_amt"
   ]
  },
  {
   "cell_type": "code",
   "execution_count": 8,
   "metadata": {},
   "outputs": [],
   "source": [
    "assert ore_for_fuel(cur_amt) < HAVE_ORE and ore_for_fuel(cur_amt + 1) > HAVE_ORE"
   ]
  },
  {
   "cell_type": "code",
   "execution_count": 9,
   "metadata": {},
   "outputs": [
    {
     "name": "stdout",
     "output_type": "stream",
     "text": [
      "The answer to part 2 is 7863863\n"
     ]
    }
   ],
   "source": [
    "print(f'The answer to part 2 is {cur_amt}')"
   ]
  },
  {
   "cell_type": "code",
   "execution_count": null,
   "metadata": {},
   "outputs": [],
   "source": []
  }
 ],
 "metadata": {
  "kernelspec": {
   "display_name": "Python 3",
   "language": "python",
   "name": "python3"
  },
  "language_info": {
   "codemirror_mode": {
    "name": "ipython",
    "version": 3
   },
   "file_extension": ".py",
   "mimetype": "text/x-python",
   "name": "python",
   "nbconvert_exporter": "python",
   "pygments_lexer": "ipython3",
   "version": "3.7.4"
  }
 },
 "nbformat": 4,
 "nbformat_minor": 2
}
