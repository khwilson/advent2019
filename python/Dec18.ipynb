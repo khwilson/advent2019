{
 "cells": [
  {
   "cell_type": "code",
   "execution_count": 1,
   "metadata": {},
   "outputs": [],
   "source": [
    "import copy\n",
    "import heapq\n",
    "import itertools as its\n",
    "import math\n",
    "import os\n",
    "import pathlib\n",
    "import re\n",
    "import string\n",
    "import sys\n",
    "from typing import Dict, List, Optional, Tuple, Union\n",
    "from collections import Counter, defaultdict, deque\n",
    "\n",
    "import networkx as nx\n",
    "import numpy as np\n",
    "import pandas as pd\n",
    "from IPython.display import clear_output\n",
    "from matplotlib import pyplot as plt\n",
    "\n",
    "from aoc import sim_new as sim, testing, util\n",
    "\n",
    "twopi = 2 * math.pi\n",
    "\n",
    "%matplotlib inline\n",
    "\n",
    "INPUT_PATH = pathlib.Path('..') / 'input' / 'dec18.txt'"
   ]
  },
  {
   "cell_type": "code",
   "execution_count": 2,
   "metadata": {},
   "outputs": [],
   "source": [
    "WALL = '#'\n",
    "START = '@'\n",
    "EMPTY = '.'\n",
    "\n",
    "def read_maze(text: str):\n",
    "    maze = {}\n",
    "    start_pos = None\n",
    "    doors = {}\n",
    "    keys = {}\n",
    "    for y, line in enumerate(text.rstrip().split('\\n')):\n",
    "        for x, c in enumerate(line.rstrip()):\n",
    "            pos = (x, y)\n",
    "            if c != WALL:\n",
    "                maze[pos] = c\n",
    "            if c == START:\n",
    "                start_pos = pos\n",
    "            if c in string.ascii_uppercase:\n",
    "                doors[pos] = c\n",
    "            if c in string.ascii_lowercase:\n",
    "                keys[pos] = c\n",
    "    return maze, start_pos, doors, keys"
   ]
  },
  {
   "cell_type": "code",
   "execution_count": 3,
   "metadata": {},
   "outputs": [],
   "source": [
    "maze, start_pos, doors, keys = read_maze(INPUT_PATH.read_text())"
   ]
  },
  {
   "cell_type": "code",
   "execution_count": 4,
   "metadata": {},
   "outputs": [],
   "source": [
    "test_maze_input = \"\"\"\\\n",
    "########################\n",
    "#...............b.C.D.f#\n",
    "#.######################\n",
    "#.....@.a.B.c.d.A.e.F.g#\n",
    "########################\"\"\"\n",
    "\n",
    "test_input_2 = \"\"\"\\\n",
    "#########\n",
    "#b.A.@.a#\n",
    "#########\"\"\"\n",
    "\n",
    "test_input_3 = \"\"\"\\\n",
    "########################\n",
    "#f.D.E.e.C.b.A.@.a.B.c.#\n",
    "######################.#\n",
    "#d.....................#\n",
    "########################\"\"\"\n",
    "\n",
    "test_input_4 = \"\"\"\\\n",
    "#################\n",
    "#i.G..c...e..H.p#\n",
    "########.########\n",
    "#j.A..b...f..D.o#\n",
    "########@########\n",
    "#k.E..a...g..B.n#\n",
    "########.########\n",
    "#l.F..d...h..C.m#\n",
    "#################\"\"\""
   ]
  },
  {
   "cell_type": "code",
   "execution_count": 5,
   "metadata": {},
   "outputs": [],
   "source": [
    "def print_maze(maze, start_pos, doors, keys):\n",
    "    min_x = min(key[0] for key in maze)\n",
    "    max_x = max(key[0] for key in maze)\n",
    "    min_y = min(key[1] for key in maze)\n",
    "    max_y = max(key[1] for key in maze)\n",
    "    \n",
    "    for y in range(min_y, max_y + 1):\n",
    "        for x in range(min_x, max_x + 1):\n",
    "            pos = (x, y)\n",
    "            if pos in maze:\n",
    "                if pos in doors:\n",
    "                    print(doors[pos], end='')\n",
    "                elif pos in keys:\n",
    "                    print(keys[pos], end='')\n",
    "                elif pos == start_pos:\n",
    "                    print('@', end='')\n",
    "                else:\n",
    "                    print('.', end='')\n",
    "            else:\n",
    "                print('#', end='')\n",
    "        print()\n"
   ]
  },
  {
   "cell_type": "code",
   "execution_count": null,
   "metadata": {},
   "outputs": [],
   "source": []
  },
  {
   "cell_type": "code",
   "execution_count": null,
   "metadata": {},
   "outputs": [],
   "source": []
  },
  {
   "cell_type": "code",
   "execution_count": null,
   "metadata": {},
   "outputs": [],
   "source": []
  },
  {
   "cell_type": "code",
   "execution_count": null,
   "metadata": {},
   "outputs": [],
   "source": []
  },
  {
   "cell_type": "code",
   "execution_count": null,
   "metadata": {},
   "outputs": [],
   "source": []
  },
  {
   "cell_type": "code",
   "execution_count": 6,
   "metadata": {},
   "outputs": [],
   "source": [
    "# Slow search method\n",
    "\n",
    "def search(maze, start_pos, doors, keys):\n",
    "    queue = deque([(start_pos, frozenset(''), 0)])\n",
    "    seen = set([(start_pos, frozenset(''))])\n",
    "    \n",
    "    def append_to_queue(pos, keys_i_have, path_length):\n",
    "        propose = (pos, keys_i_have)\n",
    "        if propose not in seen:\n",
    "            seen.add(propose)\n",
    "            queue.append(propose + (path_length,))\n",
    "\n",
    "    while queue:\n",
    "        pos, keys_i_have, path_length = queue.popleft()\n",
    "        for to_pos in util.four_ways(*pos):\n",
    "            if to_pos not in maze:\n",
    "                continue\n",
    "\n",
    "            if to_pos in doors:\n",
    "                # If I'm a door\n",
    "                if doors[to_pos].lower() in keys_i_have:\n",
    "                    # And I have the key, step through the door. Else nope out\n",
    "                    append_to_queue(to_pos, keys_i_have, path_length + 1)\n",
    "            elif to_pos in keys:\n",
    "                # If I'm a key\n",
    "                key = keys[to_pos]\n",
    "                local_keys_i_have = keys_i_have | frozenset(key)  # Collect the key\n",
    "                if len(local_keys_i_have) == len(keys):\n",
    "                    # Done!\n",
    "                    return path_length + 1\n",
    "\n",
    "                # Step onto the square\n",
    "                append_to_queue(to_pos, local_keys_i_have, path_length + 1)\n",
    "            else:\n",
    "                # Just a regular square\n",
    "                append_to_queue(to_pos, keys_i_have, path_length + 1)\n",
    "                \n",
    "\n",
    "# Faster search method (compresses to a key you can get; doesn't bother with queue for empty steps)\n",
    "def keys_i_can_get(maze, start_pos, doors, keys_i_have):\n",
    "    queue = deque([(start_pos, 0)])\n",
    "    seen = set([start_pos])\n",
    "    \n",
    "    while queue:\n",
    "        pos, dist = queue.popleft()\n",
    "        for to_pos in util.four_ways(*pos):\n",
    "            if to_pos not in maze or to_pos in seen:\n",
    "                continue\n",
    "            \n",
    "            if to_pos in doors and doors[to_pos].lower() not in keys_i_have:\n",
    "                continue\n",
    "\n",
    "            if to_pos in keys and keys[to_pos] not in keys_i_have:\n",
    "                yield to_pos, keys[to_pos], dist + 1\n",
    "                continue\n",
    "            \n",
    "            queue.append((to_pos, dist + 1))\n",
    "            seen.add(to_pos)\n",
    "                    \n",
    "\n",
    "def search_fast(maze, start_pos, doors, keys):\n",
    "    # Distance (heap invariant), starting position (array), keys i have\n",
    "    heapqueue = [(0, start_pos, frozenset())]\n",
    "    seen = [set() for _ in range(len(start_pos))]\n",
    "    while heapqueue:\n",
    "        dist, cur_pos, keys_i_have = heapq.heappop(heapqueue)\n",
    "        for i, pos in enumerate(cur_pos):\n",
    "            if len(keys_i_have) == len(keys):\n",
    "                return dist\n",
    "        \n",
    "            if (pos, keys_i_have) in seen[i]:\n",
    "                continue\n",
    "            \n",
    "            seen[i].add((pos, keys_i_have))\n",
    "            \n",
    "            for new_small_pos, new_key, new_dist in keys_i_can_get(maze, pos, doors, keys_i_have):\n",
    "                new_pos = cur_pos[:i] + (new_small_pos,) + cur_pos[i+1:]\n",
    "                heapq.heappush(heapqueue, (dist + new_dist, new_pos, keys_i_have | frozenset([new_key])))"
   ]
  },
  {
   "cell_type": "code",
   "execution_count": 7,
   "metadata": {},
   "outputs": [
    {
     "name": "stdout",
     "output_type": "stream",
     "text": [
      "b.A.@.a\n"
     ]
    }
   ],
   "source": [
    "maze, start_pos, doors, keys = read_maze(test_input_2)\n",
    "print_maze(maze, start_pos, doors, keys)\n",
    "assert search(maze, start_pos, doors, keys) == 8"
   ]
  },
  {
   "cell_type": "code",
   "execution_count": 8,
   "metadata": {},
   "outputs": [
    {
     "name": "stdout",
     "output_type": "stream",
     "text": [
      "f.D.E.e.C.b.A.@.a.B.c.\n",
      "#####################.\n",
      "d.....................\n"
     ]
    }
   ],
   "source": [
    "maze, start_pos, doors, keys = read_maze(test_input_3)\n",
    "print_maze(maze, start_pos, doors, keys)\n",
    "assert search(maze, start_pos, doors, keys) == 86\n",
    "assert search_fast(maze, (start_pos,), doors, keys) == 86"
   ]
  },
  {
   "cell_type": "code",
   "execution_count": 9,
   "metadata": {},
   "outputs": [
    {
     "name": "stdout",
     "output_type": "stream",
     "text": [
      "...............b.C.D.f\n",
      ".#####################\n",
      ".....@.a.B.c.d.A.e.F.g\n"
     ]
    }
   ],
   "source": [
    "maze, start_pos, doors, keys = read_maze(test_maze_input)\n",
    "print_maze(maze, start_pos, doors, keys)\n",
    "assert search(maze, start_pos, doors, keys) == 132\n",
    "assert search_fast(maze, (start_pos,), doors, keys) == 132"
   ]
  },
  {
   "cell_type": "code",
   "execution_count": 10,
   "metadata": {},
   "outputs": [
    {
     "name": "stdout",
     "output_type": "stream",
     "text": [
      "i.G..c...e..H.p\n",
      "#######.#######\n",
      "j.A..b...f..D.o\n",
      "#######@#######\n",
      "k.E..a...g..B.n\n",
      "#######.#######\n",
      "l.F..d...h..C.m\n"
     ]
    }
   ],
   "source": [
    "maze, start_pos, doors, keys = read_maze(test_input_4)\n",
    "print_maze(maze, start_pos, doors, keys)\n",
    "assert search(maze, start_pos, doors, keys) == 136\n",
    "assert search_fast(maze, (start_pos,), doors, keys) == 136"
   ]
  },
  {
   "cell_type": "code",
   "execution_count": 11,
   "metadata": {},
   "outputs": [
    {
     "name": "stdout",
     "output_type": "stream",
     "text": [
      "The answer to part 1 is 4868\n"
     ]
    }
   ],
   "source": [
    "maze, start_pos, doors, keys = read_maze(INPUT_PATH.read_text())\n",
    "print(f'The answer to part 1 is {search_fast(maze, (start_pos,), doors, keys)}')"
   ]
  },
  {
   "cell_type": "code",
   "execution_count": null,
   "metadata": {},
   "outputs": [],
   "source": []
  },
  {
   "cell_type": "code",
   "execution_count": 12,
   "metadata": {},
   "outputs": [],
   "source": [
    "# For part 2 our functions are a bit more complicated\n",
    "\n",
    "def convert(maze, start_pos):\n",
    "    \"\"\" Convert the maze to the part 2 format \"\"\"\n",
    "    maze = copy.copy(maze)\n",
    "    del maze[start_pos]\n",
    "    for pos in util.four_ways(*start_pos):\n",
    "        del maze[pos]\n",
    "    start_poses = []\n",
    "    for i in [-1, 1]:\n",
    "        for j in [-1, 1]:\n",
    "            start_poses.append((start_pos[0] + i, start_pos[1] + j))\n",
    "    start_poses = tuple(start_poses)\n",
    "    return maze, start_poses"
   ]
  },
  {
   "cell_type": "code",
   "execution_count": 13,
   "metadata": {},
   "outputs": [],
   "source": [
    "test_again = \"\"\"\\\n",
    "#######\n",
    "#a.#Cd#\n",
    "##...##\n",
    "##.@.##\n",
    "##...##\n",
    "#cB#Ab#\n",
    "#######\"\"\"\n",
    "\n",
    "test_again2 = \"\"\"\\\n",
    "###############\n",
    "#d.ABC.#.....a#\n",
    "######...######\n",
    "######.@.######\n",
    "######...######\n",
    "#b.....#.....c#\n",
    "###############\"\"\""
   ]
  },
  {
   "cell_type": "code",
   "execution_count": null,
   "metadata": {},
   "outputs": [],
   "source": []
  },
  {
   "cell_type": "code",
   "execution_count": null,
   "metadata": {},
   "outputs": [],
   "source": []
  },
  {
   "cell_type": "code",
   "execution_count": 14,
   "metadata": {},
   "outputs": [],
   "source": [
    "maze, start_pos, doors, keys = read_maze(test_again)\n",
    "maze, start_poses = convert(maze, start_pos)\n",
    "assert search_fast(maze, start_poses, doors, keys) == 8"
   ]
  },
  {
   "cell_type": "code",
   "execution_count": 15,
   "metadata": {},
   "outputs": [],
   "source": [
    "maze, start_pos, doors, keys = read_maze(test_again2)\n",
    "maze, start_poses = convert(maze, start_pos)\n",
    "assert search_fast(maze, start_poses, doors, keys) == 24"
   ]
  },
  {
   "cell_type": "code",
   "execution_count": 16,
   "metadata": {},
   "outputs": [
    {
     "name": "stdout",
     "output_type": "stream",
     "text": [
      "The answer to part 2 is 1984\n"
     ]
    }
   ],
   "source": [
    "maze, start_pos, doors, keys = read_maze(INPUT_PATH.read_text())\n",
    "maze, start_poses = convert(maze, start_pos)\n",
    "print(f'The answer to part 2 is {search_fast(maze, start_poses, doors, keys)}')"
   ]
  },
  {
   "cell_type": "code",
   "execution_count": null,
   "metadata": {},
   "outputs": [],
   "source": []
  }
 ],
 "metadata": {
  "kernelspec": {
   "display_name": "Python 3",
   "language": "python",
   "name": "python3"
  },
  "language_info": {
   "codemirror_mode": {
    "name": "ipython",
    "version": 3
   },
   "file_extension": ".py",
   "mimetype": "text/x-python",
   "name": "python",
   "nbconvert_exporter": "python",
   "pygments_lexer": "ipython3",
   "version": "3.7.4"
  }
 },
 "nbformat": 4,
 "nbformat_minor": 2
}
