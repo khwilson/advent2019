{
 "cells": [
  {
   "cell_type": "code",
   "execution_count": 1,
   "metadata": {},
   "outputs": [],
   "source": [
    "import copy\n",
    "import itertools as its\n",
    "import math\n",
    "import os\n",
    "import pathlib\n",
    "import re\n",
    "import string\n",
    "import sys\n",
    "from typing import Dict, List, Optional, Tuple, Union\n",
    "from collections import Counter, defaultdict, deque\n",
    "\n",
    "import networkx as nx\n",
    "import numpy as np\n",
    "import pandas as pd\n",
    "from IPython.display import clear_output\n",
    "from matplotlib import pyplot as plt\n",
    "\n",
    "from aoc import sim_new as sim, testing, util\n",
    "\n",
    "twopi = 2 * math.pi\n",
    "\n",
    "%matplotlib inline\n",
    "\n",
    "INPUT_PATH = pathlib.Path('..') / 'input' / 'dec23.txt'"
   ]
  },
  {
   "cell_type": "code",
   "execution_count": 2,
   "metadata": {},
   "outputs": [],
   "source": [
    "ops = sim.read_ops(INPUT_PATH.read_text())"
   ]
  },
  {
   "cell_type": "code",
   "execution_count": 3,
   "metadata": {},
   "outputs": [],
   "source": [
    "class IOWrapper:\n",
    "    def __init__(self, num_comps):\n",
    "        self.input_wrappers = [InputWrapper(i) for i in range(num_comps)]\n",
    "        self.output_wrappers = [OutputWrapper(self) for i in range(num_comps)]\n",
    "        self.nat = NAT(self)\n",
    "    \n",
    "    def send(self, to_comp, *msgs):\n",
    "        if to_comp == 255:\n",
    "            for msg in msgs:\n",
    "                self.nat.send(msg)\n",
    "        else:\n",
    "            for msg in msgs:\n",
    "                self.input_wrappers[to_comp].queue.append(msg)\n",
    "\n",
    "class InputWrapper:\n",
    "    def __init__(self, val):\n",
    "        self.queue = deque([val])\n",
    "        self.times_empty = 0\n",
    "\n",
    "    def get(self):\n",
    "        if self.queue:\n",
    "            self.times_empty = 0\n",
    "            return self.queue.popleft()\n",
    "        self.times_empty += 1\n",
    "        return -1\n",
    "\n",
    "    \n",
    "class OutputWrapper:\n",
    "    def __init__(self, io_wrapper):\n",
    "        self.io_wrapper = io_wrapper\n",
    "        self.to_whom = None\n",
    "        self.output_counter = 0\n",
    "    \n",
    "    def __call__(self, val):\n",
    "        self.output_counter = (self.output_counter + 1) % 3\n",
    "        if self.output_counter == 1:\n",
    "            self.to_whom = val\n",
    "        elif self.output_counter == 2:\n",
    "            self.io_wrapper.send(self.to_whom, val)\n",
    "        else:\n",
    "            self.io_wrapper.send(self.to_whom, val)\n",
    "\n",
    "            \n",
    "class Computers:\n",
    "    def __init__(self, ops, num_comps):\n",
    "        self.io_wrapper = IOWrapper(num_comps)\n",
    "        self.computers = []\n",
    "        for input_wrapper, output_wrapper in zip(self.io_wrapper.input_wrappers, self.io_wrapper.output_wrappers):\n",
    "            self.computers.append(sim.Computer(\n",
    "                ops,\n",
    "                inplace=False,\n",
    "                inputs=input_wrapper,\n",
    "                output_func=output_wrapper\n",
    "            ))\n",
    "    \n",
    "    def run(self, step_size=10, stop_early=False):\n",
    "        done = [False] * len(self.computers)\n",
    "        while not all(done):\n",
    "            for i, (is_done, computer) in enumerate(zip(done, self.computers)):\n",
    "                if not is_done:\n",
    "                    out = computer.simulate(num_steps=step_size)\n",
    "                    if out == -1:\n",
    "                        done[i] = True\n",
    "            if stop_early and self.io_wrapper.nat.y is not None:\n",
    "                print(f'The answer to part 1 is {self.io_wrapper.nat.y}')\n",
    "                break\n",
    "            \n",
    "            self.io_wrapper.nat.monitor()\n",
    "            if self.io_wrapper.nat.part2_done:\n",
    "                break\n",
    "\n",
    "\n",
    "class NAT:\n",
    "    def __init__(self, io_wrapper):\n",
    "        self.io_wrapper = io_wrapper\n",
    "        self.x = None\n",
    "        self.y = None\n",
    "        self.counter = 0\n",
    "        self.part2_done = False\n",
    "        self.last_y = None\n",
    "\n",
    "    def send(self, val):\n",
    "        self.counter += 1\n",
    "        self.counter %= 2\n",
    "        if self.counter == 1:\n",
    "            self.x = val\n",
    "        else:\n",
    "            self.y = val\n",
    "\n",
    "    def monitor(self):\n",
    "        if all(input_wrapper.times_empty > 1 for input_wrapper in self.io_wrapper.input_wrappers):\n",
    "            if self.last_y == self.y:\n",
    "                print(f'The answer to part 2 is {self.y}')\n",
    "                self.part2_done = True\n",
    "            self.last_y = self.y\n",
    "            self.io_wrapper.send(0, self.x, self.y)"
   ]
  },
  {
   "cell_type": "code",
   "execution_count": 4,
   "metadata": {},
   "outputs": [
    {
     "name": "stdout",
     "output_type": "stream",
     "text": [
      "The answer to part 1 is 23259\n"
     ]
    }
   ],
   "source": [
    "Computers(ops, 50).run(stop_early=True)"
   ]
  },
  {
   "cell_type": "code",
   "execution_count": 5,
   "metadata": {},
   "outputs": [
    {
     "name": "stdout",
     "output_type": "stream",
     "text": [
      "The answer to part 2 is 15742\n"
     ]
    }
   ],
   "source": [
    "Computers(ops, 50).run(stop_early=False)"
   ]
  }
 ],
 "metadata": {
  "kernelspec": {
   "display_name": "Python 3",
   "language": "python",
   "name": "python3"
  },
  "language_info": {
   "codemirror_mode": {
    "name": "ipython",
    "version": 3
   },
   "file_extension": ".py",
   "mimetype": "text/x-python",
   "name": "python",
   "nbconvert_exporter": "python",
   "pygments_lexer": "ipython3",
   "version": "3.7.4"
  }
 },
 "nbformat": 4,
 "nbformat_minor": 2
}
