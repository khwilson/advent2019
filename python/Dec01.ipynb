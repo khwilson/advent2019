{
 "cells": [
  {
   "cell_type": "code",
   "execution_count": 11,
   "metadata": {},
   "outputs": [],
   "source": [
    "import os\n",
    "import pathlib\n",
    "from typing import List\n",
    "\n",
    "import numpy as np\n",
    "import pandas as pd\n",
    "from matplotlib import pyplot as plt\n",
    "\n",
    "%matplotlib inline\n",
    "\n",
    "INPUT_PATH = pathlib.Path('..') / 'input' / 'dec01.txt'"
   ]
  },
  {
   "cell_type": "code",
   "execution_count": 12,
   "metadata": {},
   "outputs": [],
   "source": [
    "def mass_to_fuel(mass: int) -> int:\n",
    "    return max(mass // 3 - 2, 0)"
   ]
  },
  {
   "cell_type": "code",
   "execution_count": 13,
   "metadata": {},
   "outputs": [],
   "source": [
    "assert mass_to_fuel(12) == 2\n",
    "assert mass_to_fuel(14) == 2\n",
    "assert mass_to_fuel(1969) == 654\n",
    "assert mass_to_fuel(100756) == 33583"
   ]
  },
  {
   "cell_type": "code",
   "execution_count": 14,
   "metadata": {},
   "outputs": [],
   "source": [
    "data = [int(line) for line in INPUT_PATH.read_text().split('\\n') if line]"
   ]
  },
  {
   "cell_type": "code",
   "execution_count": 15,
   "metadata": {},
   "outputs": [
    {
     "name": "stdout",
     "output_type": "stream",
     "text": [
      "The total fuel necessary is 3563458\n"
     ]
    }
   ],
   "source": [
    "fuel = sum(mass_to_fuel(mass) for mass in data)\n",
    "print(f'The total fuel necessary is {fuel}')"
   ]
  },
  {
   "cell_type": "code",
   "execution_count": 16,
   "metadata": {},
   "outputs": [],
   "source": [
    "def total_mass_to_fuel(mass: int) -> int:\n",
    "    fuel = mass_to_fuel(mass)\n",
    "    total = fuel\n",
    "    while fuel:\n",
    "        fuel = mass_to_fuel(fuel)\n",
    "        total += fuel\n",
    "    return total"
   ]
  },
  {
   "cell_type": "code",
   "execution_count": 17,
   "metadata": {},
   "outputs": [
    {
     "name": "stdout",
     "output_type": "stream",
     "text": [
      "The total fuel necessary is 5342292\n"
     ]
    }
   ],
   "source": [
    "total_fuel = sum(total_mass_to_fuel(mass) for mass in data)\n",
    "print(f'The total fuel necessary is {total_fuel}')"
   ]
  }
 ],
 "metadata": {
  "kernelspec": {
   "display_name": "Python 3",
   "language": "python",
   "name": "python3"
  },
  "language_info": {
   "codemirror_mode": {
    "name": "ipython",
    "version": 3
   },
   "file_extension": ".py",
   "mimetype": "text/x-python",
   "name": "python",
   "nbconvert_exporter": "python",
   "pygments_lexer": "ipython3",
   "version": "3.7.4"
  }
 },
 "nbformat": 4,
 "nbformat_minor": 2
}
