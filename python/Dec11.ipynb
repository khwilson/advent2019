{
 "cells": [
  {
   "cell_type": "code",
   "execution_count": 1,
   "metadata": {},
   "outputs": [],
   "source": [
    "import copy\n",
    "import itertools as its\n",
    "import math\n",
    "import os\n",
    "import pathlib\n",
    "from typing import Dict, List, Optional\n",
    "from collections import Counter, defaultdict\n",
    "\n",
    "import networkx as nx\n",
    "import numpy as np\n",
    "import pandas as pd\n",
    "from matplotlib import pyplot as plt\n",
    "\n",
    "from aoc import sim_new as sim, testing, util\n",
    "\n",
    "twopi = 2 * math.pi\n",
    "\n",
    "%matplotlib inline\n",
    "\n",
    "INPUT_PATH = pathlib.Path('..') / 'input' / 'dec11.txt'"
   ]
  },
  {
   "cell_type": "code",
   "execution_count": 17,
   "metadata": {
    "scrolled": true
   },
   "outputs": [],
   "source": [
    "class BoardInputWrapper:\n",
    "    def __init__(self, robot):\n",
    "        self.robot = robot\n",
    "        \n",
    "    def get(self):\n",
    "        pos = (self.robot.pos_x, self.robot.pos_y)\n",
    "        return self.robot.painted[pos]\n",
    "\n",
    "    def __bool__(self):\n",
    "        return True\n",
    "\n",
    "class BoardOutputWrapper:\n",
    "    def __init__(self, robot):\n",
    "        self.robot = robot\n",
    "        self.parity = 0\n",
    "        self.has_been_painted = set()\n",
    "    \n",
    "    def __call__(self, val):\n",
    "        if self.parity == 0:\n",
    "          pos = (self.robot.pos_x, self.robot.pos_y)\n",
    "          self.parity = 1\n",
    "          self.robot.painted[pos] = val\n",
    "          self.has_been_painted.add(pos)\n",
    "        else:\n",
    "          self.robot.turn(val)\n",
    "          self.robot.step()\n",
    "          self.parity = 0\n",
    "        return False\n",
    "\n",
    "class Robot:\n",
    "    def __init__(self, ops):\n",
    "        self.ops = ops\n",
    "        self.direction = 0\n",
    "        self.pos_x = 0\n",
    "        self.pos_y = 0\n",
    "        self.painted = defaultdict(int)\n",
    "    \n",
    "    def step(self):\n",
    "        if self.direction == 0:\n",
    "            self.pos_y -= 1\n",
    "        elif self.direction == 2:\n",
    "            self.pos_y += 1\n",
    "        elif self.direction == 3:\n",
    "            self.pos_x -= 1\n",
    "        elif self.direction == 1:\n",
    "            self.pos_x += 1\n",
    "        else:\n",
    "            raise ValueError(f'Invalid direction {self.direction}')\n",
    "    \n",
    "    def turn(self, val):\n",
    "        if val == 0:\n",
    "            # Turn left\n",
    "            self.direction = (self.direction - 1) % 4\n",
    "        elif val == 1:\n",
    "            # Turn right\n",
    "            self.direction = (self.direction + 1) % 4\n",
    "        else:\n",
    "            raise ValueError(f'Invalid turning direction {val}')\n",
    "    \n",
    "    def simulate(self, white_panels=None):\n",
    "        input_wrapper = BoardInputWrapper(self)\n",
    "        for pos in (white_panels or []):\n",
    "            self.painted[pos] = 1\n",
    "        output = BoardOutputWrapper(self)\n",
    "        sim.simulate(self.ops, inputs=BoardInputWrapper(self), output_func=output)\n",
    "        print(len(output.has_been_painted))\n",
    "    \n",
    "    def printme(self):\n",
    "        min_x = min(key[0] for key in self.painted.keys())\n",
    "        max_x = max(key[0] for key in self.painted.keys())\n",
    "        min_y = min(key[1] for key in self.painted.keys())\n",
    "        max_y = max(key[1] for key in self.painted.keys())\n",
    "        for y in range(min_y, max_y + 1):\n",
    "            for x in range(min_x + max_x + 1):\n",
    "                print('.' if self.painted[(x, y)] == 0 else '#', end='')\n",
    "            print()"
   ]
  },
  {
   "cell_type": "code",
   "execution_count": 18,
   "metadata": {},
   "outputs": [
    {
     "name": "stdout",
     "output_type": "stream",
     "text": [
      "1909\n"
     ]
    }
   ],
   "source": [
    "robot = Robot(sim.read_ops(INPUT_PATH.read_text().strip()))\n",
    "robot.simulate()"
   ]
  },
  {
   "cell_type": "code",
   "execution_count": 19,
   "metadata": {},
   "outputs": [
    {
     "name": "stdout",
     "output_type": "stream",
     "text": [
      "...........##............\n",
      "...........#.###.........\n",
      "..........#.##.#.........\n",
      "........#..#.#.#.........\n",
      "........#######.#........\n",
      "....####.#.#...##........\n",
      "....#..##.....#..........\n",
      "...#.##.#..##.##.........\n",
      "##.####..................\n",
      "####..##....#..#.##......\n",
      ".#....###.#.#######......\n",
      "##.#...#...####..#.......\n",
      ".###..####.#.##.####.....\n",
      ".#.#......##...###.#.....\n",
      "...##.#.#...###.#........\n",
      ".#.##.####..#####.#......\n",
      "#..#..#.#####....#.......\n",
      "..#...#.##.#.#..#........\n",
      "#..####.##.#..##.........\n",
      "#..###..###..............\n",
      "..##.###...##............\n",
      "#..##......#.###.........\n",
      "###..#.....#...#.........\n",
      "#..#.#.##......#.........\n",
      ".#.....##..#.##.#........\n",
      "##.......##.##.##........\n",
      "...#.##.###.#............\n",
      ".#...#....####...........\n",
      "###..#...#...............\n",
      ".#...#..##.#.............\n",
      "##.#......####.#.........\n",
      "..##..#..##.#...##.......\n",
      "#.#.#...#.####.#.#.......\n",
      ".#.#.####....####........\n",
      "#...##......#.#.#........\n",
      "##.##.#.#...##.#.#.......\n",
      "####.##.##.##..#.#.......\n",
      "#####..##..##..###.......\n",
      "....#..##..#.#####.......\n",
      "#.##..##...#.#.##.##.....\n",
      "#.#...###.######.#....#..\n",
      "###.###.#..##....##..#.#.\n",
      "#...###..##.##..##..#..#.\n",
      "#.#.#.........#.##.#.##.#\n",
      "####.###.........###...##\n",
      "...##.#.#....##.#..#...##\n",
      ".##..#####...##.#...##.##\n",
      "#.######......##.##..##..\n",
      "#......#..............#..\n",
      "######.#####..........##.\n",
      "#...###.#.##.........##..\n",
      ".#...................#.#.\n",
      "...####...###.........#..\n",
      ".....#....##............#\n",
      "###.##...##.#.........##.\n",
      "###.#.....#............##\n",
      ".#.##..#...............#.\n",
      ".##...#................#.\n",
      ".#..#................#...\n",
      ".###.#.##...........#.#..\n",
      ".#.#..####.........#.#...\n",
      "..###...###.......#.#.##.\n",
      ".#...#..#.#.......##..###\n",
      "#.###.#.#.##..........###\n",
      "##..####..##.............\n",
      ".....#..#..............#.\n",
      ".....##................##\n",
      "........................#\n",
      ".........................\n",
      ".........................\n",
      ".........................\n",
      ".........................\n",
      ".........................\n"
     ]
    }
   ],
   "source": [
    "robot.printme()"
   ]
  },
  {
   "cell_type": "code",
   "execution_count": 20,
   "metadata": {},
   "outputs": [
    {
     "name": "stdout",
     "output_type": "stream",
     "text": [
      "249\n"
     ]
    }
   ],
   "source": [
    "robot = Robot(sim.read_ops(INPUT_PATH.read_text().strip()))\n",
    "robot.simulate(white_panels=[(0, 0)])"
   ]
  },
  {
   "cell_type": "code",
   "execution_count": 21,
   "metadata": {},
   "outputs": [
    {
     "name": "stdout",
     "output_type": "stream",
     "text": [
      "...##.#..#.####.####.#..#.#..#.###..#..#...\n",
      "....#.#..#.#....#....#.#..#..#.#..#.#..#...\n",
      "....#.#..#.###..###..##...####.#..#.####...\n",
      "....#.#..#.#....#....#.#..#..#.###..#..#...\n",
      ".#..#.#..#.#....#....#.#..#..#.#....#..#...\n",
      "..##...##..#....####.#..#.#..#.#....#..#...\n"
     ]
    }
   ],
   "source": [
    "robot.printme()"
   ]
  },
  {
   "cell_type": "code",
   "execution_count": null,
   "metadata": {},
   "outputs": [],
   "source": []
  }
 ],
 "metadata": {
  "kernelspec": {
   "display_name": "Python 3",
   "language": "python",
   "name": "python3"
  },
  "language_info": {
   "codemirror_mode": {
    "name": "ipython",
    "version": 3
   },
   "file_extension": ".py",
   "mimetype": "text/x-python",
   "name": "python",
   "nbconvert_exporter": "python",
   "pygments_lexer": "ipython3",
   "version": "3.7.4"
  }
 },
 "nbformat": 4,
 "nbformat_minor": 2
}
