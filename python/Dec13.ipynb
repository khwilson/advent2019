{
 "cells": [
  {
   "cell_type": "code",
   "execution_count": 1,
   "metadata": {},
   "outputs": [],
   "source": [
    "import copy\n",
    "import itertools as its\n",
    "import math\n",
    "import os\n",
    "import pathlib\n",
    "import re\n",
    "import sys\n",
    "import time\n",
    "from typing import Dict, List, Optional\n",
    "from collections import Counter, defaultdict\n",
    "\n",
    "import networkx as nx\n",
    "import numpy as np\n",
    "import pandas as pd\n",
    "from IPython.display import clear_output\n",
    "from matplotlib import pyplot as plt\n",
    "\n",
    "from aoc import sim_new as sim, testing, util\n",
    "\n",
    "twopi = 2 * math.pi\n",
    "\n",
    "%matplotlib inline\n",
    "\n",
    "INPUT_PATH = pathlib.Path('..') / 'input' / 'dec13.txt'"
   ]
  },
  {
   "cell_type": "code",
   "execution_count": 2,
   "metadata": {},
   "outputs": [],
   "source": [
    "class BoardInputWrapper:\n",
    "    def __init__(self, robot, auto: bool = False, print_rate: int = 1000, sleep_time: float = 0.5):\n",
    "        self.round = 0\n",
    "        self.robot = robot\n",
    "        self.auto = auto\n",
    "        self.print_rate = print_rate\n",
    "        self.sleep_time = sleep_time\n",
    "        \n",
    "    def get(self):\n",
    "        self.round += 1\n",
    "        if self.round % self.print_rate == 0:\n",
    "            self.robot.printme(clear=True)\n",
    "            time.sleep(self.sleep_time)\n",
    "        if self.auto:\n",
    "            if self.robot.paddle_x < self.robot.ball_x:\n",
    "                return 1\n",
    "            elif self.robot.paddle_x > self.robot.ball_x:\n",
    "                return -1\n",
    "            else:\n",
    "                return 0\n",
    "        else:\n",
    "            val = int(input('Left (-1) Stay (0) Right (1): '))\n",
    "        return val\n",
    "\n",
    "    def __bool__(self):\n",
    "        return True\n",
    "\n",
    "BLOCK_VAL = 2\n",
    "PADDLE_VAL = 3\n",
    "BALL_VAL = 4\n",
    "\n",
    "class BoardOutputWrapper:\n",
    "    def __init__(self, robot):\n",
    "        self.robot = robot\n",
    "        self.parity = 0\n",
    "        self.pos_x = None\n",
    "        self.pos_y = None\n",
    "    \n",
    "    def __call__(self, val):\n",
    "        if self.parity == 0:\n",
    "          self.pos_x = val\n",
    "          self.parity = 1\n",
    "        elif self.parity == 1:\n",
    "          self.pos_y = val\n",
    "          self.parity = 2\n",
    "        elif self.parity == 2:\n",
    "          if self.pos_x == -1 and self.pos_y == 0:\n",
    "            self.robot.score = val\n",
    "          else:\n",
    "            pos = (self.pos_x, self.pos_y)\n",
    "            self.robot.painted[pos] = val\n",
    "            if val == BALL_VAL:\n",
    "              self.robot.ball_x = self.pos_x\n",
    "            elif val == PADDLE_VAL:\n",
    "              self.robot.paddle_x = self.pos_x\n",
    "          self.parity = 0\n",
    "        return False\n",
    "\n",
    "class Robot:\n",
    "    def __init__(self, ops):\n",
    "        self.ops = ops\n",
    "        self.score = 0\n",
    "        self.painted = defaultdict(int)\n",
    "        self.ball_x = None\n",
    "        self.paddle_x = None\n",
    "    \n",
    "    def simulate(self, auto: bool = False):\n",
    "        output_wrapper = BoardOutputWrapper(self)\n",
    "        input_wrapper = BoardInputWrapper(self, auto=auto)\n",
    "        sim.simulate(self.ops, inputs=input_wrapper, output_func=output_wrapper)\n",
    "        self.printme(clear=True)\n",
    "    \n",
    "    def printme(self, clear: bool = False):\n",
    "        if clear:\n",
    "            clear_output()\n",
    "            \n",
    "        min_x = min(key[0] for key in self.painted.keys())\n",
    "        max_x = max(key[0] for key in self.painted.keys())\n",
    "        min_y = min(key[1] for key in self.painted.keys())\n",
    "        max_y = max(key[1] for key in self.painted.keys())\n",
    "        for y in range(min_y, max_y + 1):\n",
    "            for x in range(min_x + max_x + 1):\n",
    "                val = self.painted[(x, y)]\n",
    "                if val == 0:\n",
    "                    print('.', end='')\n",
    "                elif val == 1:\n",
    "                    print('#', end='')\n",
    "                elif val == BLOCK_VAL:\n",
    "                    print('B', end='')\n",
    "                elif val == PADDLE_VAL:\n",
    "                    print('_', end='')\n",
    "                elif val == BALL_VAL:\n",
    "                    print('O', end='')\n",
    "                else:\n",
    "                    raise ValueError('Invalid return value')\n",
    "                print('.' if self.painted[(x, y)] == 0 else '#', end='')\n",
    "            print()\n",
    "        print(f'Score: {self.score}')\n",
    "        sys.stdout.flush()"
   ]
  },
  {
   "cell_type": "code",
   "execution_count": 3,
   "metadata": {},
   "outputs": [
    {
     "name": "stdout",
     "output_type": "stream",
     "text": [
      "##################################################################################\n",
      "##..............................................................................##\n",
      "##....B#B#....B#B#B#..B#B#..B#B#..B#..B#B#B#B#......B#B#B#B#..B#B#B#B#..B#B#B#..##\n",
      "##..B#B#......B#B#B#....B#B#B#..........B#B#B#B#B#..B#..B#B#B#B#B#B#....B#B#....##\n",
      "##..B#B#B#B#B#B#B#..B#B#B#B#B#..B#B#....B#B#B#..B#B#B#....B#....B#B#B#B#B#..B#..##\n",
      "##..B#B#B#B#B#..B#B#B#..B#B#B#B#........B#B#B#B#B#B#..B#B#......B#B#B#......B#..##\n",
      "##..B#B#B#..B#B#B#B#B#B#B#B#........B#..B#..B#B#B#..B#B#B#B#B#B#B#B#..B#..B#B#..##\n",
      "##..B#B#B#B#B#B#....B#......B#B#B#....B#..B#B#B#B#B#B#B#B#B#B#B#B#B#B#....B#B#..##\n",
      "##....B#B#B#B#..B#B#B#..B#B#B#B#B#B#B#B#..B#B#B#B#B#....B#B#B#B#B#......B#..B#..##\n",
      "##....B#B#..B#B#..B#B#....B#B#B#B#B#..B#B#..B#B#B#B#B#B#B#B#B#B#B#..B#..B#B#B#..##\n",
      "##..B#..B#....B#....B#B#B#..B#B#..B#B#B#B#B#B#B#B#..B#B#B#B#B#..B#B#B#B#B#B#....##\n",
      "##..B#B#B#B#B#B#B#B#B#..B#B#..B#B#......B#B#..B#B#B#B#B#B#B#..B#B#....B#..B#....##\n",
      "##..B#......B#B#..B#..B#B#..B#B#B#B#..B#B#B#B#B#B#B#B#B#B#B#B#B#B#B#B#B#..B#....##\n",
      "##..B#B#B#..B#B#B#....B#B#B#..B#B#..B#B#B#B#B#B#..B#B#B#B#B#......B#..B#B#B#....##\n",
      "##..B#B#B#B#..B#..B#....B#B#B#B#......B#B#B#B#..B#B#B#....B#B#B#B#B#B#B#B#B#B#..##\n",
      "##....B#B#....B#B#B#B#B#B#B#B#B#..B#B#B#B#B#B#..B#B#B#..B#B#B#....B#B#B#..B#B#..##\n",
      "##..B#B#......B#B#B#B#..B#....B#B#..B#B#B#B#....B#B#B#..B#B#B#..B#B#B#..B#B#B#..##\n",
      "##..B#B#B#B#B#....B#..B#B#B#..B#B#B#B#B#B#..B#..B#B#B#B#..B#....B#..B#B#..B#B#..##\n",
      "##..............................................................................##\n",
      "##..................................O#..........................................##\n",
      "##..............................................................................##\n",
      "##..............................................................................##\n",
      "##......................................_#......................................##\n",
      "##..............................................................................##\n",
      "Score: 0\n"
     ]
    }
   ],
   "source": [
    "robot = Robot(sim.read_ops(INPUT_PATH.read_text().strip()))\n",
    "robot.simulate()"
   ]
  },
  {
   "cell_type": "code",
   "execution_count": 4,
   "metadata": {},
   "outputs": [
    {
     "data": {
      "text/plain": [
       "420"
      ]
     },
     "execution_count": 4,
     "metadata": {},
     "output_type": "execute_result"
    }
   ],
   "source": [
    "sum(val == 2 for val in robot.painted.values())"
   ]
  },
  {
   "cell_type": "code",
   "execution_count": 5,
   "metadata": {},
   "outputs": [
    {
     "name": "stdout",
     "output_type": "stream",
     "text": [
      "##################################################################################\n",
      "##..............................................................................##\n",
      "##....B#B#....B#B#B#..B#B#..B#B#..B#..B#B#B#B#......B#B#B#B#..B#B#B#B#..B#B#B#..##\n",
      "##..B#B#......B#B#B#....B#B#B#..........B#B#B#B#B#..B#..B#B#B#B#B#B#....B#B#....##\n",
      "##..B#B#B#B#B#B#B#..B#B#B#B#B#..B#B#....B#B#B#..B#B#B#....B#....B#B#B#B#B#..B#..##\n",
      "##..B#B#B#B#B#..B#B#B#..B#B#B#B#........B#B#B#B#B#B#..B#B#......B#B#B#......B#..##\n",
      "##..B#B#B#..B#B#B#B#B#B#B#B#........B#..B#..B#B#B#..B#B#B#B#B#B#B#B#..B#..B#B#..##\n",
      "##..B#B#B#B#B#B#....B#......B#B#B#....B#..B#B#B#B#B#B#B#B#B#B#B#B#B#B#....B#B#..##\n",
      "##....B#B#B#B#..B#B#B#..B#B#B#B#B#B#B#B#..B#B#B#B#B#....B#B#B#B#B#......B#..B#..##\n",
      "##....B#B#..B#B#..B#B#....B#B#B#B#B#..B#B#..B#B#B#B#B#B#B#B#B#B#B#..B#..B#B#B#..##\n",
      "##..B#..B#....B#....B#B#B#..B#B#..B#B#B#B#B#B#B#B#..B#B#B#B#B#..B#B#B#B#B#B#....##\n",
      "##..B#B#B#B#B#B#B#B#B#..B#B#..B#B#......B#B#..B#B#B#B#B#B#B#..B#B#....B#..B#....##\n",
      "##..B#......B#B#..B#..B#B#..B#B#B#B#..B#B#B#B#B#B#B#B#B#B#B#B#B#B#B#B#B#..B#....##\n",
      "##..B#B#B#..B#B#B#....B#B#B#..B#B#..B#B#B#B#B#B#..B#B#B#B#B#......B#..B#B#B#....##\n",
      "##..B#B#B#B#..B#..B#....B#B#B#B#......B#B#B#B#..B#B#B#....B#B#B#B#B#B#B#B#B#B#..##\n",
      "##....B#B#....B#B#B#B#B#B#B#B#B#..B#B#B#B#B#B#..B#B#B#..B#B#B#....B#B#B#..B#B#..##\n",
      "##..B#B#......B#B#B#B#..B#....B#B#..B#B#B#B#....B#B#B#..B#B#B#..B#B#B#..B#B#B#..##\n",
      "##..B#B#B#B#B#....B#..B#B#B#..B#B#B#B#B#B#..B#..B#B#B#B#..B#....B#..B#B#..B#B#..##\n",
      "##..............................................................................##\n",
      "##..................................O#..........................................##\n",
      "##..............................................................................##\n",
      "##..............................................................................##\n",
      "##......................................_#......................................##\n",
      "##..............................................................................##\n",
      "Score: 0\n"
     ]
    }
   ],
   "source": [
    "robot.printme()"
   ]
  },
  {
   "cell_type": "code",
   "execution_count": 6,
   "metadata": {},
   "outputs": [
    {
     "name": "stdout",
     "output_type": "stream",
     "text": [
      "##################################################################################\n",
      "##..............................................................................##\n",
      "##..............................................................................##\n",
      "##..............................................................................##\n",
      "##..............................................................................##\n",
      "##..............................................................................##\n",
      "##..............................................................................##\n",
      "##..............................................................................##\n",
      "##..............................................................................##\n",
      "##..............................................................................##\n",
      "##..............................................................................##\n",
      "##..........................................O#..................................##\n",
      "##..............................................................................##\n",
      "##..............................................................................##\n",
      "##..............................................................................##\n",
      "##..............................................................................##\n",
      "##..............................................................................##\n",
      "##..............................................................................##\n",
      "##..............................................................................##\n",
      "##..............................................................................##\n",
      "##..............................................................................##\n",
      "##..............................................................................##\n",
      "##.........................................._#..................................##\n",
      "##..............................................................................##\n",
      "Score: 21651\n"
     ]
    }
   ],
   "source": [
    "ops = sim.read_ops(INPUT_PATH.read_text().strip())\n",
    "ops[0] = 2\n",
    "robot = Robot(ops)\n",
    "robot.simulate(auto=True)"
   ]
  },
  {
   "cell_type": "code",
   "execution_count": null,
   "metadata": {},
   "outputs": [],
   "source": []
  }
 ],
 "metadata": {
  "kernelspec": {
   "display_name": "Python 3",
   "language": "python",
   "name": "python3"
  },
  "language_info": {
   "codemirror_mode": {
    "name": "ipython",
    "version": 3
   },
   "file_extension": ".py",
   "mimetype": "text/x-python",
   "name": "python",
   "nbconvert_exporter": "python",
   "pygments_lexer": "ipython3",
   "version": "3.7.4"
  }
 },
 "nbformat": 4,
 "nbformat_minor": 2
}
