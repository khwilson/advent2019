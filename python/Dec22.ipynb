{
 "cells": [
  {
   "cell_type": "code",
   "execution_count": 1,
   "metadata": {},
   "outputs": [],
   "source": [
    "import copy\n",
    "import itertools as its\n",
    "import math\n",
    "import os\n",
    "import pathlib\n",
    "import re\n",
    "import sys\n",
    "from typing import Dict, List, Optional, Tuple, Union\n",
    "from collections import Counter, defaultdict, deque\n",
    "\n",
    "import networkx as nx\n",
    "import numpy as np\n",
    "import pandas as pd\n",
    "from IPython.display import clear_output\n",
    "from matplotlib import pyplot as plt\n",
    "\n",
    "from aoc import sim_new as sim, testing, util\n",
    "\n",
    "twopi = 2 * math.pi\n",
    "\n",
    "%matplotlib inline\n",
    "\n",
    "INPUT_PATH = pathlib.Path('..') / 'input' / 'dec22.txt'"
   ]
  },
  {
   "cell_type": "code",
   "execution_count": 2,
   "metadata": {},
   "outputs": [],
   "source": [
    "# First we do by hand, applying to whole deck\n",
    "\n",
    "DEAL_NEW = 0\n",
    "CUT = 1\n",
    "DEAL_INC = 2\n",
    "\n",
    "FIND_INT_RE = re.compile(r'-?\\d+$')\n",
    "\n",
    "def read_instruction(line: str) -> Tuple[int, Optional[int]]:\n",
    "    if line == 'deal into new stack':\n",
    "        return DEAL_NEW, None\n",
    "    elif line.startswith('cut'):\n",
    "        return CUT, int(FIND_INT_RE.findall(line)[0])\n",
    "    elif line.startswith('deal with increment'):\n",
    "        return DEAL_INC, int(FIND_INT_RE.findall(line)[0])\n",
    "    else:\n",
    "        raise ValueError('Bad instruction')\n",
    "\n",
    "def read_instructions(text: str) -> List[Tuple[int, Optional[int]]]:\n",
    "    return list(map(read_instruction, text.strip().split('\\n')))"
   ]
  },
  {
   "cell_type": "code",
   "execution_count": 3,
   "metadata": {},
   "outputs": [],
   "source": [
    "def apply_instruction(stack: List[int], instruction: int, arg: Optional[int]) -> List[int]:\n",
    "    if instruction == DEAL_NEW:\n",
    "        return list(reversed(stack))\n",
    "    elif instruction == CUT:\n",
    "        return stack[arg:] + stack[:arg]\n",
    "    elif instruction == DEAL_INC:\n",
    "        out = [0] * len(stack)\n",
    "        out_idx = 0\n",
    "        in_idx = 0\n",
    "        while in_idx < len(stack):\n",
    "            out[out_idx] = stack[in_idx]\n",
    "            out_idx = (out_idx + arg) % len(stack)\n",
    "            in_idx += 1\n",
    "        return out\n",
    "    else:\n",
    "        raise ValueError('Bad instruction')\n",
    "\n",
    "def apply_instructions(stack: List[int], instructions: List[Tuple[int, Optional[int]]]):\n",
    "    for instruction, arg in instructions:\n",
    "        stack = apply_instruction(stack, instruction, arg)\n",
    "    return stack"
   ]
  },
  {
   "cell_type": "code",
   "execution_count": 4,
   "metadata": {},
   "outputs": [
    {
     "name": "stdout",
     "output_type": "stream",
     "text": [
      "The answer to part 1 is 1538\n"
     ]
    }
   ],
   "source": [
    "instructions = read_instructions(INPUT_PATH.read_text().strip())\n",
    "print(f'The answer to part 1 is {apply_instructions(list(range(10007)), instructions).index(2019)}')"
   ]
  },
  {
   "cell_type": "code",
   "execution_count": 5,
   "metadata": {},
   "outputs": [],
   "source": [
    "# To do large numbers, we'll simply follow a single card around\n",
    "\n",
    "def follow_card(card_name: int, deck_size: int, instructions: List[Tuple[int, Optional[int]]], track_seen: bool = False):\n",
    "    position = card_name\n",
    "    seen_slots = {position: 0}\n",
    "    for round_num, (instruction, arg) in enumerate(instructions, 1):\n",
    "        if instruction == DEAL_NEW:\n",
    "            position = (-1 - position)\n",
    "        elif instruction == CUT:\n",
    "            if arg < 0:\n",
    "                # Reverse the arg\n",
    "                arg = deck_size + arg\n",
    "            position = (position - arg)\n",
    "        elif instruction == DEAL_INC:\n",
    "            position = (position * arg)\n",
    "        else:\n",
    "            raise ValueError('Bad instruction')\n",
    "        if track_seen and position in seen_slots:\n",
    "            return position, seen_slots[position], round_num\n",
    "        seen_slots[position] = round_num\n",
    "    return position"
   ]
  },
  {
   "cell_type": "code",
   "execution_count": 6,
   "metadata": {},
   "outputs": [],
   "source": [
    "assert follow_card(2019, 10007, instructions) % 10007 == 1538"
   ]
  },
  {
   "cell_type": "code",
   "execution_count": 7,
   "metadata": {},
   "outputs": [],
   "source": [
    "# Note that this is just a linear function % the deck size, so to do\n",
    "# much larger numbers, we need to figure out what the composed\n",
    "# linear function is mod the deck size.\n",
    "#\n",
    "# But if f(x) = cx + d, then f^n(x) = c^n x + (c^n - 1) / (c - 1) * d\n",
    "# So if we're careful about % deck_size, then this should be pretty easy"
   ]
  },
  {
   "cell_type": "code",
   "execution_count": 8,
   "metadata": {},
   "outputs": [],
   "source": [
    "# Modular mutliplicative inverses\n",
    "\n",
    "def egcd(a, b):\n",
    "    if a == 0:\n",
    "        return (b, 0, 1)\n",
    "    else:\n",
    "        g, y, x = egcd(b % a, a)\n",
    "        return (g, x - (b // a) * y, y)\n",
    "\n",
    "def modinv(a, m):\n",
    "    g, x, y = egcd(a, m)\n",
    "    if g != 1:\n",
    "        raise Exception('modular inverse does not exist')\n",
    "    else:\n",
    "        return x % m"
   ]
  },
  {
   "cell_type": "code",
   "execution_count": 9,
   "metadata": {},
   "outputs": [],
   "source": [
    "# Here we have a function that computes this linear polynomial\n",
    "def follow_card_many_times(card_name, deck_size, num_rounds):\n",
    "    c0 = follow_card(0, deck_size, instructions) % deck_size\n",
    "    c1 = (follow_card(1, deck_size, instructions) - c0) % deck_size\n",
    "    final_c1 = pow(c1, num_rounds, deck_size)\n",
    "    final_c0 = ((pow(c1, num_rounds, deck_size) - 1) * modinv(c1 - 1, deck_size) * c0) % deck_size\n",
    "    return (final_c1 * card_name + final_c0) % deck_size"
   ]
  },
  {
   "cell_type": "code",
   "execution_count": 10,
   "metadata": {},
   "outputs": [],
   "source": [
    "output = apply_instructions(list(range(10007)), instructions)\n",
    "assert follow_card_many_times(2019, 10007, 1) == output.index(2019)\n",
    "output = apply_instructions(output, instructions)\n",
    "assert follow_card_many_times(2019, 10007, 2) == output.index(2019)"
   ]
  },
  {
   "cell_type": "code",
   "execution_count": null,
   "metadata": {},
   "outputs": [],
   "source": []
  },
  {
   "cell_type": "code",
   "execution_count": 11,
   "metadata": {},
   "outputs": [],
   "source": [
    "# But the prompt is tricky. It actually wants us to _invert_ this polynomial *waaahhhhh*"
   ]
  },
  {
   "cell_type": "code",
   "execution_count": 12,
   "metadata": {},
   "outputs": [],
   "source": [
    "def inv_fcmt(card_name, deck_size, num_rounds):\n",
    "    c0 = follow_card(0, deck_size, instructions) % deck_size\n",
    "    c1 = (follow_card(1, deck_size, instructions) - c0) % deck_size\n",
    "\n",
    "    # Invert the polynomial\n",
    "    c1 = modinv(c1, deck_size)\n",
    "    c0 = (-c0 * c1) % deck_size\n",
    "\n",
    "    final_c1 = pow(c1, num_rounds, deck_size)\n",
    "    final_c0 = ((pow(c1, num_rounds, deck_size) - 1) * modinv(c1 - 1, deck_size) * c0) % deck_size\n",
    "    return (final_c1 * card_name + final_c0) % deck_size"
   ]
  },
  {
   "cell_type": "code",
   "execution_count": 13,
   "metadata": {},
   "outputs": [],
   "source": [
    "# Make sure this is actually the inverse function\n",
    "assert follow_card_many_times(inv_fcmt(2019, 10007, 4), 10007, 4) == 2019"
   ]
  },
  {
   "cell_type": "code",
   "execution_count": 14,
   "metadata": {},
   "outputs": [
    {
     "name": "stdout",
     "output_type": "stream",
     "text": [
      "The answer to part 2 is 96196710942473\n"
     ]
    }
   ],
   "source": [
    "print(f'The answer to part 2 is {inv_fcmt(2020, 119315717514047, 101741582076661)}')"
   ]
  }
 ],
 "metadata": {
  "kernelspec": {
   "display_name": "Python 3",
   "language": "python",
   "name": "python3"
  },
  "language_info": {
   "codemirror_mode": {
    "name": "ipython",
    "version": 3
   },
   "file_extension": ".py",
   "mimetype": "text/x-python",
   "name": "python",
   "nbconvert_exporter": "python",
   "pygments_lexer": "ipython3",
   "version": "3.7.4"
  }
 },
 "nbformat": 4,
 "nbformat_minor": 2
}
