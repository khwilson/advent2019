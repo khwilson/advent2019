{
 "cells": [
  {
   "cell_type": "code",
   "execution_count": 1,
   "metadata": {},
   "outputs": [],
   "source": [
    "import copy\n",
    "import itertools as its\n",
    "import os\n",
    "import pathlib\n",
    "from typing import List\n",
    "\n",
    "import numpy as np\n",
    "import pandas as pd\n",
    "from matplotlib import pyplot as plt\n",
    "\n",
    "from aoc import sim, testing\n",
    "\n",
    "%matplotlib inline\n",
    "\n",
    "INPUT_PATH = pathlib.Path('..') / 'input' / 'dec04.txt'"
   ]
  },
  {
   "cell_type": "code",
   "execution_count": 2,
   "metadata": {},
   "outputs": [],
   "source": [
    "the_input = INPUT_PATH.read_text().strip()\n",
    "lo, hi = map(int, the_input.split('-'))"
   ]
  },
  {
   "cell_type": "code",
   "execution_count": 3,
   "metadata": {},
   "outputs": [
    {
     "name": "stdout",
     "output_type": "stream",
     "text": [
      "The answer to part 1 is 511\n",
      "The answer to part 2 is 316\n"
     ]
    }
   ],
   "source": [
    "def get_digits(num: int) -> List[int]:\n",
    "    return [\n",
    "        num // 100_000,\n",
    "        (num // 10_000) % 10,\n",
    "        (num // 1_000) % 10,\n",
    "        (num // 100) % 10,\n",
    "        (num // 10) % 10,\n",
    "        num % 10\n",
    "    ]\n",
    "\n",
    "testing.assert_all_equal(get_digits(123456), [1, 2, 3, 4, 5, 6])\n",
    "\n",
    "answers1 = []\n",
    "answers2 = []\n",
    "\n",
    "for num in range(lo, hi + 1):\n",
    "    # It's definitely in the range\n",
    "    \n",
    "    digits = get_digits(num)\n",
    "    diffs = [d1 - d2 for d1, d2 in zip(digits[:-1], digits[1:])]\n",
    "    \n",
    "    # Nondecreasing?\n",
    "    if any(diff > 0 for diff in diffs):\n",
    "        continue\n",
    "    \n",
    "    # Two in a row?\n",
    "    zero_idx = [i for i, diff in enumerate(diffs) if not diff]\n",
    "    if not zero_idx:\n",
    "        continue\n",
    "    answers1.append(num)\n",
    "    \n",
    "    # But not more than two in a row?\n",
    "    if len(zero_idx) == 1:\n",
    "        answers2.append(num)\n",
    "        continue\n",
    "        \n",
    "    zero_idx = [-1000] + zero_idx + [len(digits) + 1000]\n",
    "    \n",
    "    for a, b, c in zip(zero_idx[:-2], zero_idx[1:-1], zero_idx[2:]):\n",
    "        if a + 1 != b and b + 1 != c:\n",
    "            answers2.append(num)\n",
    "            break\n",
    "    \n",
    "print(f'The answer to part 1 is {len(answers1)}')\n",
    "print(f'The answer to part 2 is {len(answers2)}')"
   ]
  },
  {
   "cell_type": "code",
   "execution_count": null,
   "metadata": {},
   "outputs": [],
   "source": []
  }
 ],
 "metadata": {
  "kernelspec": {
   "display_name": "Python 3",
   "language": "python",
   "name": "python3"
  },
  "language_info": {
   "codemirror_mode": {
    "name": "ipython",
    "version": 3
   },
   "file_extension": ".py",
   "mimetype": "text/x-python",
   "name": "python",
   "nbconvert_exporter": "python",
   "pygments_lexer": "ipython3",
   "version": "3.7.4"
  }
 },
 "nbformat": 4,
 "nbformat_minor": 2
}
