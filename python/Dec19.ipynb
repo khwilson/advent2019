{
 "cells": [
  {
   "cell_type": "code",
   "execution_count": 1,
   "metadata": {},
   "outputs": [],
   "source": [
    "import copy\n",
    "import itertools as its\n",
    "import math\n",
    "import os\n",
    "import pathlib\n",
    "import re\n",
    "import sys\n",
    "from typing import Dict, List, Optional, Tuple, Union\n",
    "from collections import Counter, defaultdict, deque\n",
    "\n",
    "import networkx as nx\n",
    "import numpy as np\n",
    "import pandas as pd\n",
    "from IPython.display import clear_output\n",
    "from matplotlib import pyplot as plt\n",
    "\n",
    "from aoc import sim_new as sim, testing, util\n",
    "\n",
    "twopi = 2 * math.pi\n",
    "\n",
    "%matplotlib inline\n",
    "\n",
    "INPUT_PATH = pathlib.Path('..') / 'input' / 'dec19.txt'"
   ]
  },
  {
   "cell_type": "code",
   "execution_count": 2,
   "metadata": {},
   "outputs": [],
   "source": [
    "ops = sim.read_ops(INPUT_PATH.read_text().strip())"
   ]
  },
  {
   "cell_type": "code",
   "execution_count": 3,
   "metadata": {},
   "outputs": [],
   "source": [
    "class OutputWrapper:\n",
    "    def __init__(self):\n",
    "        self.painted = {}\n",
    "        self.pos = None\n",
    "    \n",
    "    def set_pos(self, pos_x, pos_y):\n",
    "        self.pos = (pos_x, pos_y)\n",
    "\n",
    "    def __call__(self, val):\n",
    "        self.painted[self.pos] = val\n",
    "\n",
    "def paint(x_range, y_range):\n",
    "    output = OutputWrapper()\n",
    "    for y in range(y_range):\n",
    "        for x in range(x_range):\n",
    "            output.set_pos(x, y)\n",
    "            sim.simulate(ops, inputs=[x, y], output_func=output)\n",
    "    return output.painted\n",
    "\n",
    "def print_beam(painted):\n",
    "    min_x = min(key[0] for key in painted.keys())\n",
    "    max_x = max(key[0] for key in painted.keys())\n",
    "    min_y = min(key[1] for key in painted.keys())\n",
    "    max_y = max(key[1] for key in painted.keys())\n",
    "    \n",
    "    for y in range(min_y, max_y + 1):\n",
    "        for x in range(min_x, max_x + 1):\n",
    "            if painted[(x, y)]:\n",
    "                print('#', end='')\n",
    "            else:\n",
    "                print('.', end='')\n",
    "        print()"
   ]
  },
  {
   "cell_type": "code",
   "execution_count": 4,
   "metadata": {},
   "outputs": [
    {
     "name": "stdout",
     "output_type": "stream",
     "text": [
      "The answer to part 1 is 199\n"
     ]
    }
   ],
   "source": [
    "painted = paint(50, 50)\n",
    "print(f'The answer to part 1 is {sum(painted.values())}')"
   ]
  },
  {
   "cell_type": "code",
   "execution_count": 5,
   "metadata": {},
   "outputs": [
    {
     "name": "stdout",
     "output_type": "stream",
     "text": [
      "#.................................................\n",
      "..................................................\n",
      "...#..............................................\n",
      "....#.............................................\n",
      ".....##...........................................\n",
      ".......#..........................................\n",
      "........##........................................\n",
      ".........##.......................................\n",
      "..........###.....................................\n",
      "............##....................................\n",
      ".............###..................................\n",
      "..............###.................................\n",
      "...............####...............................\n",
      ".................####.............................\n",
      "..................####............................\n",
      "...................#####..........................\n",
      "....................#####.........................\n",
      ".....................######.......................\n",
      ".......................#####......................\n",
      "........................######....................\n",
      ".........................######...................\n",
      "..........................#######.................\n",
      "............................######................\n",
      ".............................#######..............\n",
      "..............................#######.............\n",
      "...............................########...........\n",
      ".................................########.........\n",
      "..................................########........\n",
      "...................................#########......\n",
      "....................................#########.....\n",
      "......................................#########...\n",
      ".......................................#########..\n",
      "........................................##########\n",
      ".........................................#########\n",
      "..........................................########\n",
      "............................................######\n",
      ".............................................#####\n",
      "..............................................####\n",
      "...............................................###\n",
      ".................................................#\n",
      "..................................................\n",
      "..................................................\n",
      "..................................................\n",
      "..................................................\n",
      "..................................................\n",
      "..................................................\n",
      "..................................................\n",
      "..................................................\n",
      "..................................................\n",
      "..................................................\n"
     ]
    }
   ],
   "source": [
    "print_beam(painted)"
   ]
  },
  {
   "cell_type": "code",
   "execution_count": 6,
   "metadata": {},
   "outputs": [],
   "source": [
    "# Get some sort of midrange slope\n",
    "painted = paint(100, 100)"
   ]
  },
  {
   "cell_type": "code",
   "execution_count": 7,
   "metadata": {},
   "outputs": [],
   "source": [
    "min_ys = {y: min(x for x in range(100) if painted[(x, y)]) for y in range(10, 80)}\n",
    "max_ys = {y: max(x for x in range(100) if painted[(x, y)]) for y in range(10, 80) if not painted[(99, y)]}"
   ]
  },
  {
   "cell_type": "code",
   "execution_count": 8,
   "metadata": {},
   "outputs": [],
   "source": [
    "min_slope = sum(x / y for y, x in min_ys.items()) / len(min_ys)"
   ]
  },
  {
   "cell_type": "code",
   "execution_count": 9,
   "metadata": {},
   "outputs": [
    {
     "data": {
      "text/plain": [
       "1.2490179997146647"
      ]
     },
     "execution_count": 9,
     "metadata": {},
     "output_type": "execute_result"
    }
   ],
   "source": [
    "min_slope"
   ]
  },
  {
   "cell_type": "code",
   "execution_count": 10,
   "metadata": {},
   "outputs": [],
   "source": [
    "max_slope = sum(x / y for y, x in max_ys.items()) / len(max_ys)"
   ]
  },
  {
   "cell_type": "code",
   "execution_count": 11,
   "metadata": {},
   "outputs": [
    {
     "data": {
      "text/plain": [
       "1.5224051574027693"
      ]
     },
     "execution_count": 11,
     "metadata": {},
     "output_type": "execute_result"
    }
   ],
   "source": [
    "max_slope"
   ]
  },
  {
   "cell_type": "code",
   "execution_count": 12,
   "metadata": {},
   "outputs": [],
   "source": [
    "# So we need to find x and y s.t.\n",
    "#  & m * y < x\n",
    "#  & M * y > x + 99\n",
    "#  & m * (y + 99) < x and\n",
    "#  & M * (y + 99) > x + 99\n",
    "#\n",
    "# my < x - 99m\n",
    "# My > x + 99\n",
    "#\n",
    "# So x = my + 99m\n",
    "#    x = My - 99\n",
    "# my + 99m = My - 99\n",
    "# y = 99(m + 1) / (M - m)\n"
   ]
  },
  {
   "cell_type": "code",
   "execution_count": 13,
   "metadata": {},
   "outputs": [],
   "source": [
    "w = 99\n",
    "start_y = w * (min_slope + 1) / (max_slope - min_slope)\n",
    "\n",
    "assert abs((max_slope * start_y - w) - (min_slope * start_y + w * min_slope)) < 1e-7\n",
    "start_x = max_slope * start_y - w"
   ]
  },
  {
   "cell_type": "code",
   "execution_count": 14,
   "metadata": {},
   "outputs": [
    {
     "name": "stdout",
     "output_type": "stream",
     "text": [
      "1140.8817356687348 814.4229738317356\n"
     ]
    }
   ],
   "source": [
    "print(start_x, start_y)\n",
    "\n",
    "start_x = int(start_x)\n",
    "start_y = int(start_y)"
   ]
  },
  {
   "cell_type": "code",
   "execution_count": 15,
   "metadata": {},
   "outputs": [],
   "source": [
    "class Capture:\n",
    "    def __init__(self):\n",
    "        self.output = None\n",
    "\n",
    "    def __call__(self, val):\n",
    "        self.output = val\n",
    "\n",
    "def does_work(start_x, start_y):\n",
    "    # Checks if a 100 x 100 square works\n",
    "    for x, y in [(start_x, start_y), (start_x + 99, start_y), (start_x, start_y + 99), (start_x + 99, start_y + 99)]:\n",
    "        capture = Capture()\n",
    "        sim.simulate(ops, inputs=[x, y], output_func=capture)\n",
    "        if capture.output != 1:\n",
    "            return False\n",
    "    return True\n",
    "\n",
    "assert does_work(start_x, start_y)"
   ]
  },
  {
   "cell_type": "code",
   "execution_count": 16,
   "metadata": {},
   "outputs": [],
   "source": [
    "# Now get exact numbers\n",
    "xx, yy = start_x, start_y\n",
    "while True:\n",
    "    new_all_work = []\n",
    "    for x in range(xx - 20, xx + 1):\n",
    "        for y in range(yy - 20, yy + 1):\n",
    "            if x == xx and y == yy:\n",
    "                continue\n",
    "            if does_work(x, y):\n",
    "                new_all_work.append((x, y))\n",
    "    if new_all_work:\n",
    "        xx, yy = min(new_all_work, key=lambda x: x[0] + x[1])\n",
    "    else:\n",
    "        break\n"
   ]
  },
  {
   "cell_type": "code",
   "execution_count": 17,
   "metadata": {},
   "outputs": [
    {
     "name": "stdout",
     "output_type": "stream",
     "text": [
      "The answer to part 2 is 10180726\n"
     ]
    }
   ],
   "source": [
    "print(f'The answer to part 2 is {10000 * xx + yy}')"
   ]
  },
  {
   "cell_type": "code",
   "execution_count": null,
   "metadata": {},
   "outputs": [],
   "source": []
  }
 ],
 "metadata": {
  "kernelspec": {
   "display_name": "Python 3",
   "language": "python",
   "name": "python3"
  },
  "language_info": {
   "codemirror_mode": {
    "name": "ipython",
    "version": 3
   },
   "file_extension": ".py",
   "mimetype": "text/x-python",
   "name": "python",
   "nbconvert_exporter": "python",
   "pygments_lexer": "ipython3",
   "version": "3.7.4"
  }
 },
 "nbformat": 4,
 "nbformat_minor": 2
}
