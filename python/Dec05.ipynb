{
 "cells": [
  {
   "cell_type": "code",
   "execution_count": 1,
   "metadata": {},
   "outputs": [],
   "source": [
    "import copy\n",
    "import itertools as its\n",
    "import os\n",
    "import pathlib\n",
    "from typing import List\n",
    "\n",
    "import numpy as np\n",
    "import pandas as pd\n",
    "from matplotlib import pyplot as plt\n",
    "\n",
    "from aoc import sim_new as sim, testing\n",
    "\n",
    "%matplotlib inline\n",
    "\n",
    "INPUT_PATH = pathlib.Path('..') / 'input' / 'dec05.txt'"
   ]
  },
  {
   "cell_type": "code",
   "execution_count": 2,
   "metadata": {},
   "outputs": [],
   "source": [
    "ops = [int(x.strip()) for x in INPUT_PATH.read_text().split(',')]"
   ]
  },
  {
   "cell_type": "code",
   "execution_count": 3,
   "metadata": {},
   "outputs": [
    {
     "name": "stdout",
     "output_type": "stream",
     "text": [
      "Printing output: 0\n",
      "Printing output: 0\n",
      "Printing output: 0\n",
      "Printing output: 0\n",
      "Printing output: 0\n",
      "Printing output: 0\n",
      "Printing output: 0\n",
      "Printing output: 0\n",
      "Printing output: 0\n",
      "Printing output: 6731945\n"
     ]
    }
   ],
   "source": [
    "sim.simulate(ops, inputs=[1]);"
   ]
  },
  {
   "cell_type": "code",
   "execution_count": 4,
   "metadata": {},
   "outputs": [
    {
     "name": "stdout",
     "output_type": "stream",
     "text": [
      "Printing output: 1\n"
     ]
    }
   ],
   "source": [
    "test_input1 = '3,9,8,9,10,9,4,9,99,-1,8'\n",
    "test_ops1 = sim.read_ops(test_input1)\n",
    "sim.simulate(test_ops1, inputs=[8])"
   ]
  },
  {
   "cell_type": "code",
   "execution_count": 5,
   "metadata": {},
   "outputs": [
    {
     "name": "stdout",
     "output_type": "stream",
     "text": [
      "Printing output: 9571668\n"
     ]
    }
   ],
   "source": [
    "sim.simulate(ops, inputs=[5]);"
   ]
  },
  {
   "cell_type": "code",
   "execution_count": null,
   "metadata": {},
   "outputs": [],
   "source": []
  }
 ],
 "metadata": {
  "kernelspec": {
   "display_name": "Python 3",
   "language": "python",
   "name": "python3"
  },
  "language_info": {
   "codemirror_mode": {
    "name": "ipython",
    "version": 3
   },
   "file_extension": ".py",
   "mimetype": "text/x-python",
   "name": "python",
   "nbconvert_exporter": "python",
   "pygments_lexer": "ipython3",
   "version": "3.7.4"
  }
 },
 "nbformat": 4,
 "nbformat_minor": 2
}
